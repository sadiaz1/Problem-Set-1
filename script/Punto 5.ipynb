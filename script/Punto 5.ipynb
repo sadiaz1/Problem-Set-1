{
 "cells": [
  {
   "cell_type": "code",
   "execution_count": 1,
   "metadata": {},
   "outputs": [],
   "source": [
    "import pandas as pd\n",
    "import numpy as np\n",
    "from sklearn.linear_model import LinearRegression\n",
    "from sklearn.metrics import mean_squared_error, r2_score\n",
    "import statsmodels.api as sm\n",
    "from sklearn.model_selection import train_test_split\n",
    "from sklearn.linear_model import LassoCV\n",
    "from sklearn.preprocessing import StandardScaler\n"
   ]
  },
  {
   "cell_type": "code",
   "execution_count": 3,
   "metadata": {},
   "outputs": [],
   "source": [
    "import os\n",
    "os.chdir(r\"C:\\Users\\dsala\\Downloads\")"
   ]
  },
  {
   "cell_type": "code",
   "execution_count": 4,
   "metadata": {},
   "outputs": [
    {
     "name": "stdout",
     "output_type": "stream",
     "text": [
      "   directorio  secuencia_p  clase  age  sex  p6240  mes  p6426  p6870  p6920  \\\n",
      "0     4514331            1      1   36    1      1    1    166      9      1   \n",
      "1     4514333            1      1   51    1      1    1     12      4      1   \n",
      "2     4514334            1      1   45    1      1    1     15      3      1   \n",
      "3     4514335            1      1   61    1      1    1    120      7      2   \n",
      "4     4514339            1      1   35    0      1    1     36      9      1   \n",
      "\n",
      "   ...  informal^2  cuentaPropia^2  microEmpresa^2  sizeFirm^2  college^2  \\\n",
      "0  ...           0               0               0          25          1   \n",
      "1  ...           0               0               0           9          0   \n",
      "2  ...           0               0               1           4          0   \n",
      "3  ...           1               0               0          16          0   \n",
      "4  ...           0               0               0          25          1   \n",
      "\n",
      "   depto^2  estrato1^2  p6210^2  relab^2  orden^2  \n",
      "0      121           4       25        4        1  \n",
      "1      121           4       36        1        1  \n",
      "2      121           4        9        1        1  \n",
      "3      121           4        9        1        1  \n",
      "4      121           4       25        1        1  \n",
      "\n",
      "[5 rows x 50 columns]\n"
     ]
    }
   ],
   "source": [
    "base=pd.read_csv('GEIH2018_filtered_data.csv')\n",
    "\n",
    "base['Log_salario']=np.log(base['y_total_m_ha'])\n",
    "base['edad^2']=base['age']**2\n",
    "\n",
    "# Eliminar las variables que tienen colinealidad con la dependiente\n",
    "base_reducida = base.drop(columns=['y_total_m_ha', 'y_total_m', 'ingtot', 'Log_salario', 'dominio', 'edad^2'])\n",
    "\n",
    "# Definir las variables categóricas\n",
    "categorical_vars = ['estrato1', 'p6210', 'relab', 'orden']\n",
    "\n",
    "# Convertir las variables categóricas en dummy variables\n",
    "X_categoricas = pd.get_dummies(base_reducida[categorical_vars], drop_first=True)\n",
    "\n",
    "# Concatenar las variables categóricas con la base reducida\n",
    "base_reducida = pd.concat([base_reducida.drop(columns=categorical_vars), X_categoricas], axis=1)\n",
    "\n",
    "# Añadir el cuadrado de cada variable restante\n",
    "for column in base_reducida.columns:\n",
    "    # Comprobar si la columna es numérica y no es booleana\n",
    "    if np.issubdtype(base_reducida[column].dtype, np.number) and not np.issubdtype(base_reducida[column].dtype, np.bool_):\n",
    "        base_reducida[f'{column}^2'] = base_reducida[column] ** 2\n",
    "\n",
    "# Verificar que las variables cuadradas se hayan agregado correctamente\n",
    "print(base_reducida.head())\n"
   ]
  },
  {
   "cell_type": "code",
   "execution_count": 5,
   "metadata": {},
   "outputs": [],
   "source": [
    "# Definir la variable dependiente (Log_salario)\n",
    "y = base['Log_salario']\n",
    "seed=202013547\n",
    "\n",
    "# Dividir la base de datos en conjunto de entrenamiento y prueba (70% - 30%)\n",
    "X_train, X_test, y_train, y_test = train_test_split(base_reducida, y, test_size=0.3, random_state=seed)"
   ]
  },
  {
   "cell_type": "markdown",
   "metadata": {},
   "source": [
    "backward elimination para reducir X"
   ]
  },
  {
   "cell_type": "code",
   "execution_count": 6,
   "metadata": {},
   "outputs": [
    {
     "name": "stdout",
     "output_type": "stream",
     "text": [
      "Eliminando p6920^2 con p-valor de 0.7947\n",
      "Eliminando directorio^2 con p-valor de 0.6579\n",
      "Eliminando p6920 con p-valor de 0.6479\n",
      "Eliminando mes^2 con p-valor de 0.6413\n",
      "Eliminando clase con p-valor de 0.5927\n",
      "Eliminando p6240 con p-valor de 0.5928\n",
      "Eliminando depto con p-valor de 0.5928\n",
      "Eliminando depto^2 con p-valor de 0.5927\n",
      "Eliminando p7040^2 con p-valor de 0.7301\n",
      "Eliminando informal con p-valor de 0.6876\n",
      "Eliminando informal^2 con p-valor de 0.6876\n",
      "Eliminando clase^2 con p-valor de 0.6434\n",
      "Eliminando secuencia_p^2 con p-valor de 0.4373\n",
      "Eliminando sizeFirm con p-valor de 0.2993\n",
      "Eliminando sizeFirm^2 con p-valor de 0.2456\n",
      "Eliminando secuencia_p con p-valor de 0.0555\n",
      "Variables finales seleccionadas: ['directorio', 'age', 'sex', 'mes', 'p6426', 'p6870', 'p7040', 'p7070', 'maxEducLevel', 'totalHoursWorked', 'formal', 'cuentaPropia', 'microEmpresa', 'college', 'estrato1', 'p6210', 'relab', 'orden', 'age^2', 'sex^2', 'p6240^2', 'p6426^2', 'p6870^2', 'p7070^2', 'maxEducLevel^2', 'totalHoursWorked^2', 'formal^2', 'cuentaPropia^2', 'microEmpresa^2', 'college^2', 'estrato1^2', 'p6210^2', 'relab^2', 'orden^2']\n"
     ]
    }
   ],
   "source": [
    "# Añadir constante al conjunto de entrenamiento\n",
    "X_train = sm.add_constant(X_train)\n",
    "\n",
    "# Iniciar la lista de variables seleccionadas\n",
    "variables_seleccionadas = list(X_train.columns)\n",
    "\n",
    "# Aplicar backward elimination con un loop\n",
    "while len(variables_seleccionadas) > 0:\n",
    "   \n",
    "    modelo = sm.OLS(y_train, X_train[variables_seleccionadas]).fit()\n",
    "    \n",
    "    # Obtener los p-valores\n",
    "    pvalores = modelo.pvalues\n",
    "    \n",
    "    # Encontrar el p-valor más alto\n",
    "    max_pvalor = pvalores.max()\n",
    "    \n",
    "    # Si el p-valor más alto es mayor que 0.05, eliminar la variable\n",
    "    if max_pvalor > 0.05:\n",
    "        variable_a_eliminar = pvalores.idxmax()\n",
    "        variables_seleccionadas.remove(variable_a_eliminar)\n",
    "        print(f\"Eliminando {variable_a_eliminar} con p-valor de {max_pvalor:.4f}\")\n",
    "    else:\n",
    "        # Si no hay p-valores mayores a 0.05, salir del loop\n",
    "        break\n",
    "\n",
    "\n"
   ]
  },
  {
   "cell_type": "markdown",
   "metadata": {},
   "source": [
    "LASSO para reducir más las variables y empezar a probar modelos"
   ]
  },
  {
   "cell_type": "code",
   "execution_count": 7,
   "metadata": {},
   "outputs": [
    {
     "name": "stdout",
     "output_type": "stream",
     "text": [
      "Variables seleccionadas por Lasso: ['directorio', 'age', 'sex', 'p6426', 'p6870', 'p7040', 'p7070', 'totalHoursWorked', 'cuentaPropia', 'microEmpresa', 'estrato1', 'relab', 'orden', 'age^2', 'sex^2', 'p6426^2', 'p6870^2', 'p7070^2', 'maxEducLevel^2', 'totalHoursWorked^2', 'formal^2', 'cuentaPropia^2', 'college^2', 'estrato1^2', 'p6210^2', 'relab^2', 'orden^2']\n",
      "                            OLS Regression Results                            \n",
      "==============================================================================\n",
      "Dep. Variable:            Log_salario   R-squared:                       0.582\n",
      "Model:                            OLS   Adj. R-squared:                  0.580\n",
      "Method:                 Least Squares   F-statistic:                     497.6\n",
      "Date:                Sat, 14 Sep 2024   Prob (F-statistic):               0.00\n",
      "Time:                        16:20:00   Log-Likelihood:                -6795.6\n",
      "No. Observations:                8978   AIC:                         1.364e+04\n",
      "Df Residuals:                    8952   BIC:                         1.383e+04\n",
      "Df Model:                          25                                         \n",
      "Covariance Type:            nonrobust                                         \n",
      "======================================================================================\n",
      "                         coef    std err          t      P>|t|      [0.025      0.975]\n",
      "--------------------------------------------------------------------------------------\n",
      "const                  6.8795      0.340     20.209      0.000       6.212       7.547\n",
      "directorio          7.731e-08   6.74e-08      1.146      0.252   -5.49e-08     2.1e-07\n",
      "age                    0.0429      0.003     15.569      0.000       0.038       0.048\n",
      "sex                    0.0827      0.006     14.489      0.000       0.071       0.094\n",
      "p6426                  0.0017      0.000     10.373      0.000       0.001       0.002\n",
      "p6870                  0.1914      0.018     10.415      0.000       0.155       0.227\n",
      "p7040                  0.1136      0.036      3.116      0.002       0.042       0.185\n",
      "p7070               4.518e-07   4.96e-08      9.112      0.000    3.55e-07    5.49e-07\n",
      "totalHoursWorked      -0.0315      0.002    -15.484      0.000      -0.036      -0.028\n",
      "cuentaPropia          -0.1167      0.012     -9.492      0.000      -0.141      -0.093\n",
      "microEmpresa           0.1127      0.033      3.386      0.001       0.047       0.178\n",
      "estrato1              -0.1487      0.021     -7.166      0.000      -0.189      -0.108\n",
      "relab                  0.2277      0.035      6.584      0.000       0.160       0.296\n",
      "orden                 -0.0896      0.014     -6.595      0.000      -0.116      -0.063\n",
      "age^2                 -0.0005   3.24e-05    -16.197      0.000      -0.001      -0.000\n",
      "sex^2                  0.0827      0.006     14.489      0.000       0.071       0.094\n",
      "p6426^2            -2.243e-06   4.31e-07     -5.206      0.000   -3.09e-06    -1.4e-06\n",
      "p6870^2               -0.0108      0.001     -7.737      0.000      -0.014      -0.008\n",
      "p7070^2            -3.273e-14   6.66e-15     -4.918      0.000   -4.58e-14   -1.97e-14\n",
      "maxEducLevel^2         0.0042      0.004      1.001      0.317      -0.004       0.012\n",
      "totalHoursWorked^2     0.0001   1.73e-05      8.478      0.000       0.000       0.000\n",
      "formal^2               0.2077      0.016     12.668      0.000       0.176       0.240\n",
      "cuentaPropia^2        -0.1167      0.012     -9.492      0.000      -0.141      -0.093\n",
      "college^2             -0.1493      0.013    -11.808      0.000      -0.174      -0.125\n",
      "estrato1^2             0.0644      0.003     20.065      0.000       0.058       0.071\n",
      "p6210^2                0.0120      0.005      2.248      0.025       0.002       0.023\n",
      "relab^2               -0.0238      0.006     -4.012      0.000      -0.035      -0.012\n",
      "orden^2                0.0069      0.002      3.420      0.001       0.003       0.011\n",
      "==============================================================================\n",
      "Omnibus:                      690.481   Durbin-Watson:                   2.001\n",
      "Prob(Omnibus):                  0.000   Jarque-Bera (JB):             3982.484\n",
      "Skew:                          -0.026   Prob(JB):                         0.00\n",
      "Kurtosis:                       6.262   Cond. No.                     1.00e+16\n",
      "==============================================================================\n",
      "\n",
      "Notes:\n",
      "[1] Standard Errors assume that the covariance matrix of the errors is correctly specified.\n",
      "[2] The condition number is large,  1e+16. This might indicate that there are\n",
      "strong multicollinearity or other numerical problems.\n",
      "RMSE del modelo con Lasso en el conjunto de prueba: 0.5377\n"
     ]
    }
   ],
   "source": [
    "# Estandarizar las variables \n",
    "scaler = StandardScaler()\n",
    "X_train_scaled = scaler.fit_transform(X_train[variables_seleccionadas])\n",
    "X_test_scaled = scaler.transform(X_test[variables_seleccionadas])\n",
    "\n",
    "# LassoCV para encontrar el mejor alpha automáticamente\n",
    "lasso = LassoCV(cv=5, random_state=seed).fit(X_train_scaled, y_train)\n",
    "\n",
    "# Identificar las variables que sobrevivieron al Lasso\n",
    "# Filtrar las columnas cuyo coeficiente no sea cero\n",
    "variables_lasso = np.array(variables_seleccionadas)[lasso.coef_ != 0]\n",
    "\n",
    "\n",
    "\n",
    "# Ajustar el modelo final con las variables seleccionadas por Lasso\n",
    "X_train_lasso = X_train[variables_lasso]\n",
    "X_test_lasso = X_test[variables_lasso]\n",
    "\n",
    "# Reentrenar el modelo con las variables seleccionadas\n",
    "modelo_lasso = sm.OLS(y_train, sm.add_constant(X_train_lasso)).fit()\n",
    "\n",
    "# Resultados del modelo Lasso\n",
    "print(modelo_lasso.summary())\n",
    "\n",
    "# Predecir en el conjunto de prueba\n",
    "y_pred_lasso = modelo_lasso.predict(sm.add_constant(X_test_lasso))\n",
    "\n",
    "# Evaluar el modelo (RMSE)\n",
    "rmse_lasso = np.sqrt(mean_squared_error(y_test, y_pred_lasso))\n",
    "\n"
   ]
  },
  {
   "cell_type": "markdown",
   "metadata": {},
   "source": [
    "Se volvió a correr un backward sobre las sobrevivientes de lasso para reducir aún más"
   ]
  },
  {
   "cell_type": "code",
   "execution_count": 8,
   "metadata": {},
   "outputs": [
    {
     "name": "stdout",
     "output_type": "stream",
     "text": [
      "Eliminando maxEducLevel^2 con p-valor de 0.3169\n",
      "Eliminando directorio con p-valor de 0.2483\n",
      "Variables finales seleccionadas por Backward Elimination después de Lasso:\n",
      "['age', 'sex', 'p6426', 'p6870', 'p7040', 'p7070', 'totalHoursWorked', 'cuentaPropia', 'microEmpresa', 'estrato1', 'relab', 'orden', 'age^2', 'sex^2', 'p6426^2', 'p6870^2', 'p7070^2', 'totalHoursWorked^2', 'formal^2', 'cuentaPropia^2', 'college^2', 'estrato1^2', 'p6210^2', 'relab^2', 'orden^2']\n",
      "                            OLS Regression Results                            \n",
      "==============================================================================\n",
      "Dep. Variable:            Log_salario   R-squared:                       0.581\n",
      "Model:                            OLS   Adj. R-squared:                  0.580\n",
      "Method:                 Least Squares   F-statistic:                     540.8\n",
      "Date:                Sat, 14 Sep 2024   Prob (F-statistic):               0.00\n",
      "Time:                        16:20:04   Log-Likelihood:                -6796.7\n",
      "No. Observations:                8978   AIC:                         1.364e+04\n",
      "Df Residuals:                    8954   BIC:                         1.381e+04\n",
      "Df Model:                          23                                         \n",
      "Covariance Type:            nonrobust                                         \n",
      "======================================================================================\n",
      "                         coef    std err          t      P>|t|      [0.025      0.975]\n",
      "--------------------------------------------------------------------------------------\n",
      "const                  7.2446      0.136     53.298      0.000       6.978       7.511\n",
      "age                    0.0431      0.003     15.659      0.000       0.038       0.049\n",
      "sex                    0.0827      0.006     14.499      0.000       0.072       0.094\n",
      "p6426                  0.0017      0.000     10.360      0.000       0.001       0.002\n",
      "p6870                  0.1920      0.018     10.449      0.000       0.156       0.228\n",
      "p7040                  0.1135      0.036      3.116      0.002       0.042       0.185\n",
      "p7070                4.52e-07   4.96e-08      9.117      0.000    3.55e-07    5.49e-07\n",
      "totalHoursWorked      -0.0315      0.002    -15.446      0.000      -0.035      -0.027\n",
      "cuentaPropia          -0.1162      0.012     -9.451      0.000      -0.140      -0.092\n",
      "microEmpresa           0.1140      0.033      3.425      0.001       0.049       0.179\n",
      "estrato1              -0.1475      0.021     -7.117      0.000      -0.188      -0.107\n",
      "relab                  0.2266      0.035      6.553      0.000       0.159       0.294\n",
      "orden                 -0.0897      0.014     -6.606      0.000      -0.116      -0.063\n",
      "age^2                 -0.0005   3.24e-05    -16.312      0.000      -0.001      -0.000\n",
      "sex^2                  0.0827      0.006     14.499      0.000       0.072       0.094\n",
      "p6426^2            -2.235e-06   4.31e-07     -5.189      0.000   -3.08e-06   -1.39e-06\n",
      "p6870^2               -0.0109      0.001     -7.772      0.000      -0.014      -0.008\n",
      "p7070^2            -3.274e-14   6.66e-15     -4.920      0.000   -4.58e-14   -1.97e-14\n",
      "totalHoursWorked^2     0.0001   1.72e-05      8.441      0.000       0.000       0.000\n",
      "formal^2               0.2080      0.016     12.691      0.000       0.176       0.240\n",
      "cuentaPropia^2        -0.1162      0.012     -9.451      0.000      -0.140      -0.092\n",
      "college^2             -0.1456      0.012    -12.086      0.000      -0.169      -0.122\n",
      "estrato1^2             0.0643      0.003     20.028      0.000       0.058       0.071\n",
      "p6210^2                0.0173      0.001     24.441      0.000       0.016       0.019\n",
      "relab^2               -0.0237      0.006     -3.982      0.000      -0.035      -0.012\n",
      "orden^2                0.0070      0.002      3.437      0.001       0.003       0.011\n",
      "==============================================================================\n",
      "Omnibus:                      689.900   Durbin-Watson:                   2.003\n",
      "Prob(Omnibus):                  0.000   Jarque-Bera (JB):             3975.017\n",
      "Skew:                          -0.027   Prob(JB):                         0.00\n",
      "Kurtosis:                       6.259   Cond. No.                     1.00e+16\n",
      "==============================================================================\n",
      "\n",
      "Notes:\n",
      "[1] Standard Errors assume that the covariance matrix of the errors is correctly specified.\n",
      "[2] The condition number is large,  1e+16. This might indicate that there are\n",
      "strong multicollinearity or other numerical problems.\n",
      "RMSE del modelo final con Backward Elimination en el conjunto de prueba: 0.5379\n"
     ]
    }
   ],
   "source": [
    "# Utilizar las variables que sobrevivieron a Lasso\n",
    "X_train_backward = X_train_lasso.copy()\n",
    "X_test_backward = X_test_lasso.copy()\n",
    "\n",
    "# Inicializar las variables seleccionadas con todas las variables\n",
    "variables_seleccionadas = X_train_backward.columns.tolist()\n",
    "\n",
    "# Realizar el mismo backward\n",
    "while len(variables_seleccionadas) > 0:\n",
    "    \n",
    "    X_train_selected = X_train_backward[variables_seleccionadas]\n",
    "    modelo = sm.OLS(y_train, sm.add_constant(X_train_selected)).fit()\n",
    "    \n",
    "  \n",
    "    pvalores = modelo.pvalues.drop('const')\n",
    "    \n",
    "    \n",
    "    p_valor_max = pvalores.max()\n",
    "    variable_eliminar = pvalores.idxmax()\n",
    "    \n",
    "    \n",
    "    if p_valor_max > 0.05:\n",
    "        print(f\"Eliminando {variable_eliminar} con p-valor de {p_valor_max:.4f}\")\n",
    "        variables_seleccionadas.remove(variable_eliminar)\n",
    "    else:\n",
    "        \n",
    "        break\n",
    "\n",
    "\n",
    "modelo_final = sm.OLS(y_train, sm.add_constant(X_train_backward[variables_seleccionadas])).fit()\n",
    "\n",
    "# Mostrar los resultados finales\n",
    "print(\"Variables finales seleccionadas por Backward Elimination después de Lasso:\")\n",
    "print(variables_seleccionadas)\n",
    "print(modelo_final.summary())\n",
    "\n",
    "# Predecir en el conjunto de prueba\n",
    "X_test_backward_final = X_test_backward[variables_seleccionadas]\n",
    "y_pred_backward = modelo_final.predict(sm.add_constant(X_test_backward_final))\n",
    "\n",
    "# Evaluar el modelo (RMSE)\n",
    "rmse_backward = np.sqrt(mean_squared_error(y_test, y_pred_backward))\n",
    "print(f\"RMSE del modelo final con Backward Elimination en el conjunto de prueba: {rmse_backward:.4f}\")\n",
    "\n",
    "# este es el modelo que no se usó porque dependeia mucho de lasso que como tal no entraba en el taller, por eso se decidio intentar\n",
    "# seguir con otras especificaciones de las sobrevivientes\n"
   ]
  },
  {
   "cell_type": "markdown",
   "metadata": {},
   "source": [
    "finalmente se quitaron variables con una alta correlación"
   ]
  },
  {
   "cell_type": "code",
   "execution_count": 9,
   "metadata": {},
   "outputs": [
    {
     "name": "stdout",
     "output_type": "stream",
     "text": [
      "Variables después de eliminar alta correlación: ['directorio', 'age', 'sex', 'p6426', 'p6870', 'p7040', 'p7070', 'totalHoursWorked', 'cuentaPropia', 'microEmpresa', 'estrato1', 'relab', 'orden', 'p7070^2', 'maxEducLevel^2', 'formal^2', 'college^2']\n"
     ]
    }
   ],
   "source": [
    "# Calcular la matriz de correlación\n",
    "correlacion = X_train_backward.corr().abs()\n",
    "\n",
    "# Seleccionar características con alta correlación \n",
    "umbral_correlacion = 0.9\n",
    "columnas_eliminar = set()\n",
    "for i in range(len(correlacion.columns)):\n",
    "    for j in range(i):\n",
    "        if correlacion.iloc[i, j] > umbral_correlacion:\n",
    "            colname = correlacion.columns[i]\n",
    "            columnas_eliminar.add(colname)\n",
    "\n",
    "# Eliminar las variables con alta correlación\n",
    "X_train_backward_reducido = X_train_backward.drop(columns=columnas_eliminar)\n",
    "print(f\"Variables después de eliminar alta correlación: {X_train_backward_reducido.columns.tolist()}\")\n"
   ]
  },
  {
   "cell_type": "markdown",
   "metadata": {},
   "source": [
    "Con las vraibels sobrevivientes de todos estos porcesos se empiezan a probar los siguientes modelos"
   ]
  },
  {
   "cell_type": "markdown",
   "metadata": {},
   "source": [
    "modelo 0"
   ]
  },
  {
   "cell_type": "code",
   "execution_count": 25,
   "metadata": {},
   "outputs": [
    {
     "name": "stdout",
     "output_type": "stream",
     "text": [
      "                            OLS Regression Results                            \n",
      "==============================================================================\n",
      "Dep. Variable:            Log_salario   R-squared:                       0.540\n",
      "Model:                            OLS   Adj. R-squared:                  0.539\n",
      "Method:                 Least Squares   F-statistic:                     619.4\n",
      "Date:                Sat, 14 Sep 2024   Prob (F-statistic):               0.00\n",
      "Time:                        17:00:53   Log-Likelihood:                -7217.7\n",
      "No. Observations:                8978   AIC:                         1.447e+04\n",
      "Df Residuals:                    8960   BIC:                         1.460e+04\n",
      "Df Model:                          17                                         \n",
      "Covariance Type:            nonrobust                                         \n",
      "====================================================================================\n",
      "                       coef    std err          t      P>|t|      [0.025      0.975]\n",
      "------------------------------------------------------------------------------------\n",
      "const                7.2311      0.341     21.178      0.000       6.562       7.900\n",
      "directorio        5.774e-08   7.06e-08      0.818      0.414   -8.07e-08    1.96e-07\n",
      "age                 -0.0004      0.001     -0.631      0.528      -0.002       0.001\n",
      "sex                  0.1591      0.012     13.555      0.000       0.136       0.182\n",
      "p6426                0.0008   7.63e-05     10.192      0.000       0.001       0.001\n",
      "p6870                0.0510      0.004     12.704      0.000       0.043       0.059\n",
      "p7040                0.1166      0.038      3.057      0.002       0.042       0.191\n",
      "p7070             4.757e-07   5.19e-08      9.160      0.000    3.74e-07    5.77e-07\n",
      "totalHoursWorked    -0.0140      0.000    -29.480      0.000      -0.015      -0.013\n",
      "cuentaPropia        -0.2521      0.023    -10.820      0.000      -0.298      -0.206\n",
      "microEmpresa        -0.0464      0.026     -1.757      0.079      -0.098       0.005\n",
      "estrato1             0.2524      0.007     38.663      0.000       0.240       0.265\n",
      "relab                0.1006      0.008     12.785      0.000       0.085       0.116\n",
      "orden               -0.0625      0.005    -12.649      0.000      -0.072      -0.053\n",
      "p7070^2          -3.198e-14   6.97e-15     -4.589      0.000   -4.56e-14   -1.83e-14\n",
      "maxEducLevel^2       0.0130      0.001     22.733      0.000       0.012       0.014\n",
      "formal^2             0.2453      0.017     14.429      0.000       0.212       0.279\n",
      "college^2           -0.1665      0.013    -13.236      0.000      -0.191      -0.142\n",
      "==============================================================================\n",
      "Omnibus:                      634.672   Durbin-Watson:                   2.014\n",
      "Prob(Omnibus):                  0.000   Jarque-Bera (JB):             3297.857\n",
      "Skew:                           0.054   Prob(JB):                         0.00\n",
      "Kurtosis:                       5.967   Cond. No.                     1.04e+14\n",
      "==============================================================================\n",
      "\n",
      "Notes:\n",
      "[1] Standard Errors assume that the covariance matrix of the errors is correctly specified.\n",
      "[2] The condition number is large, 1.04e+14. This might indicate that there are\n",
      "strong multicollinearity or other numerical problems.\n",
      "RMSE modelo 0 : 0.5600\n"
     ]
    },
    {
     "name": "stderr",
     "output_type": "stream",
     "text": [
      "c:\\Users\\dsala\\anaconda3\\lib\\site-packages\\sklearn\\metrics\\_regression.py:483: FutureWarning: 'squared' is deprecated in version 1.4 and will be removed in 1.6. To calculate the root mean squared error, use the function'root_mean_squared_error'.\n",
      "  warnings.warn(\n"
     ]
    }
   ],
   "source": [
    "# Definir las variables del modelo \n",
    "columnas_finales = X_train_backward_reducido.columns.tolist()\n",
    "\n",
    "# Seleccionar las mismas variables en el conjunto de prueba\n",
    "X_test_reducido = X_test_backward[columnas_finales]\n",
    "\n",
    "# Añadir la constante \n",
    "X_train_reducido_const = sm.add_constant(X_train_backward_reducido)\n",
    "X_test_reducido_const = sm.add_constant(X_test_reducido)\n",
    "\n",
    "# Ajustar el modelo de regresión lineal\n",
    "modelo_0 = sm.OLS(y_train, X_train_reducido_const).fit()\n",
    "\n",
    "# tabla\n",
    "print(modelo_0.summary())\n",
    "\n",
    "# Realizar predicciones en el conjunto de prueba\n",
    "y_pred = modelo_0.predict(X_test_reducido_const)\n",
    "\n",
    "# Evaluar el modelo (RMSE)\n",
    "rmse_0 = mean_squared_error(y_test, y_pred, squared=False)\n",
    "print(f\"RMSE modelo 0 : {rmse_0:.4f}\")\n"
   ]
  },
  {
   "cell_type": "markdown",
   "metadata": {},
   "source": [
    "modelo 1"
   ]
  },
  {
   "cell_type": "code",
   "execution_count": 11,
   "metadata": {},
   "outputs": [
    {
     "name": "stdout",
     "output_type": "stream",
     "text": [
      "Modelo 1 Summary:\n",
      "                            OLS Regression Results                            \n",
      "==============================================================================\n",
      "Dep. Variable:            Log_salario   R-squared:                       0.379\n",
      "Model:                            OLS   Adj. R-squared:                  0.378\n",
      "Method:                 Least Squares   F-statistic:                     781.2\n",
      "Date:                Sat, 14 Sep 2024   Prob (F-statistic):               0.00\n",
      "Time:                        16:20:16   Log-Likelihood:                -8569.5\n",
      "No. Observations:                8978   AIC:                         1.716e+04\n",
      "Df Residuals:                    8970   BIC:                         1.721e+04\n",
      "Df Model:                           7                                         \n",
      "Covariance Type:            nonrobust                                         \n",
      "======================================================================================\n",
      "                         coef    std err          t      P>|t|      [0.025      0.975]\n",
      "--------------------------------------------------------------------------------------\n",
      "const                  7.7809      0.094     82.664      0.000       7.596       7.965\n",
      "age                    0.0628      0.003     20.116      0.000       0.057       0.069\n",
      "totalHoursWorked      -0.0280      0.002    -11.384      0.000      -0.033      -0.023\n",
      "sex                    0.1641      0.013     12.157      0.000       0.138       0.191\n",
      "estrato1               0.3812      0.007     56.121      0.000       0.368       0.394\n",
      "relab                 -0.0849      0.005    -16.959      0.000      -0.095      -0.075\n",
      "age^2                 -0.0008   3.71e-05    -20.786      0.000      -0.001      -0.001\n",
      "totalHoursWorked^2   9.17e-05   2.08e-05      4.405      0.000    5.09e-05       0.000\n",
      "==============================================================================\n",
      "Omnibus:                      445.550   Durbin-Watson:                   1.975\n",
      "Prob(Omnibus):                  0.000   Jarque-Bera (JB):             1507.173\n",
      "Skew:                           0.143   Prob(JB):                         0.00\n",
      "Kurtosis:                       4.987   Cond. No.                     4.88e+04\n",
      "==============================================================================\n",
      "\n",
      "Notes:\n",
      "[1] Standard Errors assume that the covariance matrix of the errors is correctly specified.\n",
      "[2] The condition number is large, 4.88e+04. This might indicate that there are\n",
      "strong multicollinearity or other numerical problems.\n",
      "RMSE modelo 1 : 0.6477\n"
     ]
    },
    {
     "name": "stderr",
     "output_type": "stream",
     "text": [
      "c:\\Users\\dsala\\anaconda3\\lib\\site-packages\\sklearn\\metrics\\_regression.py:483: FutureWarning: 'squared' is deprecated in version 1.4 and will be removed in 1.6. To calculate the root mean squared error, use the function'root_mean_squared_error'.\n",
      "  warnings.warn(\n"
     ]
    }
   ],
   "source": [
    "X_train_nl1 = X_train[['age', 'totalHoursWorked', 'sex', 'estrato1', 'relab']].copy()\n",
    "X_test_nl1 = X_test[['age', 'totalHoursWorked', 'sex', 'estrato1', 'relab']].copy()\n",
    "\n",
    "X_train_nl1['age^2'] = X_train_nl1['age'] ** 2\n",
    "X_train_nl1['totalHoursWorked^2'] = X_train_nl1['totalHoursWorked'] ** 2\n",
    "\n",
    "X_test_nl1['age^2'] = X_test_nl1['age'] ** 2\n",
    "X_test_nl1['totalHoursWorked^2'] = X_test_nl1['totalHoursWorked'] ** 2\n",
    "\n",
    "\n",
    "X_train_nl1_const = sm.add_constant(X_train_nl1)\n",
    "X_test_nl1_const = sm.add_constant(X_test_nl1)\n",
    "\n",
    "modelo_1 = sm.OLS(y_train, X_train_nl1_const).fit()\n",
    "y_pred_1 = modelo_1.predict(X_test_nl1_const)\n",
    "rmse_1 = mean_squared_error(y_test, y_pred_1, squared=False)\n",
    "\n",
    "print(\"Modelo 1 Summary:\")\n",
    "print(modelo_1.summary())\n",
    "print(f\"RMSE modelo 1 : {rmse_1:.4f}\")"
   ]
  },
  {
   "cell_type": "markdown",
   "metadata": {},
   "source": [
    "Modelo 2"
   ]
  },
  {
   "cell_type": "code",
   "execution_count": 12,
   "metadata": {},
   "outputs": [
    {
     "name": "stdout",
     "output_type": "stream",
     "text": [
      "Modelo 2 Summary:\n",
      "                            OLS Regression Results                            \n",
      "==============================================================================\n",
      "Dep. Variable:            Log_salario   R-squared:                       0.433\n",
      "Model:                            OLS   Adj. R-squared:                  0.433\n",
      "Method:                 Least Squares   F-statistic:                     980.6\n",
      "Date:                Sat, 14 Sep 2024   Prob (F-statistic):               0.00\n",
      "Time:                        16:20:20   Log-Likelihood:                -8155.4\n",
      "No. Observations:                8978   AIC:                         1.633e+04\n",
      "Df Residuals:                    8970   BIC:                         1.638e+04\n",
      "Df Model:                           7                                         \n",
      "Covariance Type:            nonrobust                                         \n",
      "==================================================================================\n",
      "                     coef    std err          t      P>|t|      [0.025      0.975]\n",
      "----------------------------------------------------------------------------------\n",
      "const              7.9142      0.094     84.249      0.000       7.730       8.098\n",
      "p7070           3.498e-07   4.76e-08      7.345      0.000    2.56e-07    4.43e-07\n",
      "maxEducLevel      -0.3284      0.036     -9.182      0.000      -0.398      -0.258\n",
      "cuentaPropia      -0.0547      0.016     -3.391      0.001      -0.086      -0.023\n",
      "estrato1           0.2843      0.007     41.132      0.000       0.271       0.298\n",
      "formal             0.4588      0.016     29.246      0.000       0.428       0.490\n",
      "p7070^2        -2.003e-14   7.04e-15     -2.845      0.004   -3.38e-14   -6.23e-15\n",
      "maxEducLevel^2     0.0455      0.003     13.234      0.000       0.039       0.052\n",
      "==============================================================================\n",
      "Omnibus:                      553.249   Durbin-Watson:                   2.009\n",
      "Prob(Omnibus):                  0.000   Jarque-Bera (JB):             2311.642\n",
      "Skew:                           0.138   Prob(JB):                         0.00\n",
      "Kurtosis:                       5.470   Cond. No.                     2.75e+13\n",
      "==============================================================================\n",
      "\n",
      "Notes:\n",
      "[1] Standard Errors assume that the covariance matrix of the errors is correctly specified.\n",
      "[2] The condition number is large, 2.75e+13. This might indicate that there are\n",
      "strong multicollinearity or other numerical problems.\n",
      "RMSE Modelo 2: 0.6168\n"
     ]
    },
    {
     "name": "stderr",
     "output_type": "stream",
     "text": [
      "c:\\Users\\dsala\\anaconda3\\lib\\site-packages\\sklearn\\metrics\\_regression.py:483: FutureWarning: 'squared' is deprecated in version 1.4 and will be removed in 1.6. To calculate the root mean squared error, use the function'root_mean_squared_error'.\n",
      "  warnings.warn(\n"
     ]
    }
   ],
   "source": [
    "X_train_nl2 = X_train[['p7070', 'maxEducLevel', 'cuentaPropia', 'estrato1', 'formal']].copy()\n",
    "X_test_nl2 = X_test[['p7070', 'maxEducLevel', 'cuentaPropia', 'estrato1', 'formal']].copy()\n",
    "\n",
    "X_train_nl2['p7070^2'] = X_train_nl2['p7070'] ** 2\n",
    "X_train_nl2['maxEducLevel^2'] = X_train_nl2['maxEducLevel'] ** 2\n",
    "\n",
    "X_test_nl2['p7070^2'] = X_test_nl2['p7070'] ** 2\n",
    "X_test_nl2['maxEducLevel^2'] = X_test_nl2['maxEducLevel'] ** 2\n",
    "\n",
    "X_train_nl2_const = sm.add_constant(X_train_nl2)\n",
    "X_test_nl2_const = sm.add_constant(X_test_nl2)\n",
    "\n",
    "modelo_2 = sm.OLS(y_train, X_train_nl2_const).fit()\n",
    "y_pred_2 = modelo_2.predict(X_test_nl2_const)\n",
    "rmse_2 = mean_squared_error(y_test, y_pred_2, squared=False)\n",
    "\n",
    "print(\"Modelo 2 Summary:\")\n",
    "print(modelo_2.summary())\n",
    "print(f\"RMSE Modelo 2: {rmse_2:.4f}\")"
   ]
  },
  {
   "cell_type": "markdown",
   "metadata": {},
   "source": [
    "Modelo 3"
   ]
  },
  {
   "cell_type": "code",
   "execution_count": 13,
   "metadata": {},
   "outputs": [
    {
     "name": "stdout",
     "output_type": "stream",
     "text": [
      "Modelo 3 Summary:\n",
      "                            OLS Regression Results                            \n",
      "==============================================================================\n",
      "Dep. Variable:            Log_salario   R-squared:                       0.233\n",
      "Model:                            OLS   Adj. R-squared:                  0.232\n",
      "Method:                 Least Squares   F-statistic:                     389.3\n",
      "Date:                Sat, 14 Sep 2024   Prob (F-statistic):               0.00\n",
      "Time:                        16:20:25   Log-Likelihood:                -9515.5\n",
      "No. Observations:                8978   AIC:                         1.905e+04\n",
      "Df Residuals:                    8970   BIC:                         1.910e+04\n",
      "Df Model:                           7                                         \n",
      "Covariance Type:            nonrobust                                         \n",
      "==============================================================================\n",
      "                 coef    std err          t      P>|t|      [0.025      0.975]\n",
      "------------------------------------------------------------------------------\n",
      "const          7.4324      0.077     96.819      0.000       7.282       7.583\n",
      "age            0.0383      0.004     10.373      0.000       0.031       0.045\n",
      "p6426          0.0023      0.000     10.407      0.000       0.002       0.003\n",
      "sex            0.0630      0.015      4.211      0.000       0.034       0.092\n",
      "formal         0.7126      0.016     45.548      0.000       0.682       0.743\n",
      "orden         -0.0281      0.006     -4.364      0.000      -0.041      -0.015\n",
      "age^2         -0.0005   4.35e-05    -11.234      0.000      -0.001      -0.000\n",
      "p6426^2    -2.627e-06   5.81e-07     -4.524      0.000   -3.77e-06   -1.49e-06\n",
      "==============================================================================\n",
      "Omnibus:                     1367.234   Durbin-Watson:                   2.001\n",
      "Prob(Omnibus):                  0.000   Jarque-Bera (JB):             3795.252\n",
      "Skew:                           0.823   Prob(JB):                         0.00\n",
      "Kurtosis:                       5.727   Cond. No.                     3.56e+05\n",
      "==============================================================================\n",
      "\n",
      "Notes:\n",
      "[1] Standard Errors assume that the covariance matrix of the errors is correctly specified.\n",
      "[2] The condition number is large, 3.56e+05. This might indicate that there are\n",
      "strong multicollinearity or other numerical problems.\n",
      "RMSE Modelo 3: 0.7031\n"
     ]
    },
    {
     "name": "stderr",
     "output_type": "stream",
     "text": [
      "c:\\Users\\dsala\\anaconda3\\lib\\site-packages\\sklearn\\metrics\\_regression.py:483: FutureWarning: 'squared' is deprecated in version 1.4 and will be removed in 1.6. To calculate the root mean squared error, use the function'root_mean_squared_error'.\n",
      "  warnings.warn(\n"
     ]
    }
   ],
   "source": [
    "X_train_nl3 = X_train[['age', 'p6426', 'sex', 'formal', 'orden']].copy()\n",
    "X_test_nl3 = X_test[['age', 'p6426', 'sex', 'formal', 'orden']].copy()\n",
    "\n",
    "X_train_nl3['age^2'] = X_train_nl3['age'] ** 2\n",
    "X_train_nl3['p6426^2'] = X_train_nl3['p6426'] ** 2\n",
    "\n",
    "X_test_nl3['age^2'] = X_test_nl3['age'] ** 2\n",
    "X_test_nl3['p6426^2'] = X_test_nl3['p6426'] ** 2\n",
    "\n",
    "X_train_nl3_const = sm.add_constant(X_train_nl3)\n",
    "X_test_nl3_const = sm.add_constant(X_test_nl3)\n",
    "\n",
    "modelo_3 = sm.OLS(y_train, X_train_nl3_const).fit()\n",
    "y_pred_3 = modelo_3.predict(X_test_nl3_const)\n",
    "rmse_3 = mean_squared_error(y_test, y_pred_3, squared=False)\n",
    "\n",
    "print(\"Modelo 3 Summary:\")\n",
    "print(modelo_3.summary())\n",
    "print(f\"RMSE Modelo 3: {rmse_3:.4f}\")\n"
   ]
  },
  {
   "cell_type": "markdown",
   "metadata": {},
   "source": [
    "Modelo 4"
   ]
  },
  {
   "cell_type": "code",
   "execution_count": 14,
   "metadata": {},
   "outputs": [
    {
     "name": "stdout",
     "output_type": "stream",
     "text": [
      "Modelo 4 Summary:\n",
      "                            OLS Regression Results                            \n",
      "==============================================================================\n",
      "Dep. Variable:            Log_salario   R-squared:                       0.409\n",
      "Model:                            OLS   Adj. R-squared:                  0.408\n",
      "Method:                 Least Squares   F-statistic:                     885.5\n",
      "Date:                Sat, 14 Sep 2024   Prob (F-statistic):               0.00\n",
      "Time:                        16:20:30   Log-Likelihood:                -8348.2\n",
      "No. Observations:                8978   AIC:                         1.671e+04\n",
      "Df Residuals:                    8970   BIC:                         1.677e+04\n",
      "Df Model:                           7                                         \n",
      "Covariance Type:            nonrobust                                         \n",
      "==============================================================================\n",
      "                 coef    std err          t      P>|t|      [0.025      0.975]\n",
      "------------------------------------------------------------------------------\n",
      "const          8.1819      0.084     97.056      0.000       8.017       8.347\n",
      "estrato1      -0.0063      0.024     -0.262      0.794      -0.053       0.041\n",
      "relab         -0.1125      0.032     -3.479      0.001      -0.176      -0.049\n",
      "p7040         -0.0780      0.035     -2.237      0.025      -0.146      -0.010\n",
      "formal         0.6040      0.016     38.281      0.000       0.573       0.635\n",
      "college       -0.1958      0.014    -13.825      0.000      -0.224      -0.168\n",
      "estrato1^2     0.0555      0.004     14.658      0.000       0.048       0.063\n",
      "relab^2        0.0215      0.006      3.508      0.000       0.010       0.034\n",
      "==============================================================================\n",
      "Omnibus:                      624.342   Durbin-Watson:                   1.994\n",
      "Prob(Omnibus):                  0.000   Jarque-Bera (JB):             3222.346\n",
      "Skew:                           0.021   Prob(JB):                         0.00\n",
      "Kurtosis:                       5.935   Cond. No.                         175.\n",
      "==============================================================================\n",
      "\n",
      "Notes:\n",
      "[1] Standard Errors assume that the covariance matrix of the errors is correctly specified.\n",
      "RMSE Modelo 4: 0.6292\n"
     ]
    },
    {
     "name": "stderr",
     "output_type": "stream",
     "text": [
      "c:\\Users\\dsala\\anaconda3\\lib\\site-packages\\sklearn\\metrics\\_regression.py:483: FutureWarning: 'squared' is deprecated in version 1.4 and will be removed in 1.6. To calculate the root mean squared error, use the function'root_mean_squared_error'.\n",
      "  warnings.warn(\n"
     ]
    }
   ],
   "source": [
    "X_train_nl4 = X_train[['estrato1', 'relab', 'p7040', 'formal', 'college']].copy()\n",
    "X_test_nl4 = X_test[['estrato1', 'relab', 'p7040', 'formal', 'college']].copy()\n",
    "\n",
    "X_train_nl4['estrato1^2'] = X_train_nl4['estrato1'] ** 2\n",
    "X_train_nl4['relab^2'] = X_train_nl4['relab'] ** 2\n",
    "\n",
    "X_test_nl4['estrato1^2'] = X_test_nl4['estrato1'] ** 2\n",
    "X_test_nl4['relab^2'] = X_test_nl4['relab'] ** 2\n",
    "\n",
    "X_train_nl4_const = sm.add_constant(X_train_nl4)\n",
    "X_test_nl4_const = sm.add_constant(X_test_nl4)\n",
    "\n",
    "modelo_4 = sm.OLS(y_train, X_train_nl4_const).fit()\n",
    "y_pred_4 = modelo_4.predict(X_test_nl4_const)\n",
    "rmse_4 = mean_squared_error(y_test, y_pred_4, squared=False)\n",
    "\n",
    "print(\"Modelo 4 Summary:\")\n",
    "print(modelo_4.summary())\n",
    "print(f\"RMSE Modelo 4: {rmse_4:.4f}\")"
   ]
  },
  {
   "cell_type": "markdown",
   "metadata": {},
   "source": [
    "Modelo 5"
   ]
  },
  {
   "cell_type": "code",
   "execution_count": 26,
   "metadata": {},
   "outputs": [
    {
     "name": "stdout",
     "output_type": "stream",
     "text": [
      "RMSE modelo 5: 0.6478\n"
     ]
    },
    {
     "name": "stderr",
     "output_type": "stream",
     "text": [
      "c:\\Users\\dsala\\anaconda3\\lib\\site-packages\\sklearn\\metrics\\_regression.py:483: FutureWarning: 'squared' is deprecated in version 1.4 and will be removed in 1.6. To calculate the root mean squared error, use the function'root_mean_squared_error'.\n",
      "  warnings.warn(\n"
     ]
    }
   ],
   "source": [
    "X_train_nl5 = X_train[['age', 'totalHoursWorked', 'sex', 'estrato1', 'relab', 'age^2', 'totalHoursWorked^2']].copy()\n",
    "X_train_nl5['age_totalHoursWorked'] = X_train['age'] * X_train['totalHoursWorked']\n",
    "X_train_nl5['sex_estrato1'] = X_train['sex'] * X_train['estrato1']\n",
    "X_train_nl5['relab_age'] = X_train['relab'] * X_train['age']\n",
    "\n",
    "X_test_nl5 = X_test[['age', 'totalHoursWorked', 'sex', 'estrato1', 'relab', 'age^2', 'totalHoursWorked^2']].copy()\n",
    "X_test_nl5['age_totalHoursWorked'] = X_test['age'] * X_test['totalHoursWorked']\n",
    "X_test_nl5['sex_estrato1'] = X_test['sex'] * X_test['estrato1']\n",
    "X_test_nl5['relab_age'] = X_test['relab'] * X_test['age']\n",
    "\n",
    "# Ajustar el modelo\n",
    "modelo_5 = sm.OLS(y_train, sm.add_constant(X_train_nl5)).fit()\n",
    "y_pred_5 = modelo_5.predict(sm.add_constant(X_test_nl5))\n",
    "\n",
    "# Calcular el RMSE\n",
    "rmse_5 = mean_squared_error(y_test, y_pred_5, squared=False)\n",
    "\n",
    "print(f\"RMSE modelo 5: {rmse_5:.4f}\")"
   ]
  },
  {
   "cell_type": "markdown",
   "metadata": {},
   "source": [
    "modelo 6"
   ]
  },
  {
   "cell_type": "code",
   "execution_count": 27,
   "metadata": {},
   "outputs": [
    {
     "name": "stdout",
     "output_type": "stream",
     "text": [
      "RMSE Modelo 6: 0.5988\n"
     ]
    },
    {
     "name": "stderr",
     "output_type": "stream",
     "text": [
      "c:\\Users\\dsala\\anaconda3\\lib\\site-packages\\sklearn\\metrics\\_regression.py:483: FutureWarning: 'squared' is deprecated in version 1.4 and will be removed in 1.6. To calculate the root mean squared error, use the function'root_mean_squared_error'.\n",
      "  warnings.warn(\n"
     ]
    }
   ],
   "source": [
    "\n",
    "X_train_nl6 = X_train[['sex', 'formal', 'estrato1', 'orden', 'maxEducLevel^2', 'college^2']].copy()\n",
    "X_train_nl6['sex_formal'] = X_train['sex'] * X_train['formal']\n",
    "X_train_nl6['estrato1_orden'] = X_train['estrato1'] * X_train['orden']\n",
    "X_train_nl6['maxEducLevel2_college2'] = X_train['maxEducLevel^2'] * X_train['college^2']\n",
    "\n",
    "X_test_nl6 = X_test[['sex', 'formal', 'estrato1', 'orden', 'maxEducLevel^2', 'college^2']].copy()\n",
    "X_test_nl6['sex_formal'] = X_test['sex'] * X_test['formal']\n",
    "X_test_nl6['estrato1_orden'] = X_test['estrato1'] * X_test['orden']\n",
    "X_test_nl6['maxEducLevel2_college2'] = X_test['maxEducLevel^2'] * X_test['college^2']\n",
    "\n",
    "# Ajustar el modelo\n",
    "modelo_6 = sm.OLS(y_train, sm.add_constant(X_train_nl6)).fit()\n",
    "y_pred_6 = modelo_6.predict(sm.add_constant(X_test_nl6))\n",
    "\n",
    "# Calcular el RMSE\n",
    "rmse_6 = mean_squared_error(y_test, y_pred_6, squared=False)\n",
    "\n",
    "print(f\"RMSE Modelo 6: {rmse_6:.4f}\")"
   ]
  },
  {
   "cell_type": "markdown",
   "metadata": {},
   "source": [
    "modelo 7"
   ]
  },
  {
   "cell_type": "code",
   "execution_count": 28,
   "metadata": {},
   "outputs": [
    {
     "name": "stdout",
     "output_type": "stream",
     "text": [
      "RMSE Modelo 7: 0.5983\n"
     ]
    },
    {
     "name": "stderr",
     "output_type": "stream",
     "text": [
      "c:\\Users\\dsala\\anaconda3\\lib\\site-packages\\sklearn\\metrics\\_regression.py:483: FutureWarning: 'squared' is deprecated in version 1.4 and will be removed in 1.6. To calculate the root mean squared error, use the function'root_mean_squared_error'.\n",
      "  warnings.warn(\n"
     ]
    }
   ],
   "source": [
    "X_train_nl7 = X_train[['age', 'totalHoursWorked', 'formal', 'estrato1', 'p6426', 'age^2', 'totalHoursWorked^2']].copy()\n",
    "X_train_nl7['age_formal'] = X_train['age'] * X_train['formal']\n",
    "X_train_nl7['totalHoursWorked2_estrato1'] = X_train['totalHoursWorked^2'] * X_train['estrato1']\n",
    "X_train_nl7['p6426_age2'] = X_train['p6426'] * X_train['age^2']\n",
    "\n",
    "X_test_nl7 = X_test[['age', 'totalHoursWorked', 'formal', 'estrato1', 'p6426', 'age^2', 'totalHoursWorked^2']].copy()\n",
    "X_test_nl7['age_formal'] = X_test['age'] * X_test['formal']\n",
    "X_test_nl7['totalHoursWorked2_estrato1'] = X_test['totalHoursWorked^2'] * X_test['estrato1']\n",
    "X_test_nl7['p6426_age2'] = X_test['p6426'] * X_test['age^2']\n",
    "\n",
    "# Ajustar el modelo\n",
    "modelo_7 = sm.OLS(y_train, sm.add_constant(X_train_nl7)).fit()\n",
    "y_pred_7 = modelo_7.predict(sm.add_constant(X_test_nl7))\n",
    "\n",
    "# Calcular el RMSE\n",
    "rmse_7 = mean_squared_error(y_test, y_pred_7, squared=False)\n",
    "\n",
    "print(f\"RMSE Modelo 7: {rmse_7:.4f}\")"
   ]
  },
  {
   "cell_type": "code",
   "execution_count": 19,
   "metadata": {},
   "outputs": [],
   "source": [
    "modelos = ['Modelo 0','Modelo 1', 'Modelo 2', 'Modelo 3', 'Modelo 4', 'Modelo 5', 'Modelo 6', 'Modelo 7']\n",
    "rmses = [rmse_0, rmse_1, rmse_2, rmse_3, rmse_4, rmse_5,rmse_6, rmse_7] \n",
    "\n",
    "# Crear un DataFrame a partir de las listas\n",
    "tabla_rmse = pd.DataFrame({\n",
    "    'Nombre del Modelo': modelos,\n",
    "    'RMSE': rmses\n",
    "})"
   ]
  },
  {
   "cell_type": "code",
   "execution_count": 36,
   "metadata": {},
   "outputs": [
    {
     "data": {
      "text/html": [
       "<div>\n",
       "<style scoped>\n",
       "    .dataframe tbody tr th:only-of-type {\n",
       "        vertical-align: middle;\n",
       "    }\n",
       "\n",
       "    .dataframe tbody tr th {\n",
       "        vertical-align: top;\n",
       "    }\n",
       "\n",
       "    .dataframe thead th {\n",
       "        text-align: right;\n",
       "    }\n",
       "</style>\n",
       "<table border=\"1\" class=\"dataframe\">\n",
       "  <thead>\n",
       "    <tr style=\"text-align: right;\">\n",
       "      <th></th>\n",
       "      <th>Nombre del Modelo</th>\n",
       "      <th>RMSE</th>\n",
       "    </tr>\n",
       "  </thead>\n",
       "  <tbody>\n",
       "    <tr>\n",
       "      <th>0</th>\n",
       "      <td>Modelo 0</td>\n",
       "      <td>0.559971</td>\n",
       "    </tr>\n",
       "    <tr>\n",
       "      <th>7</th>\n",
       "      <td>Modelo 7</td>\n",
       "      <td>0.598285</td>\n",
       "    </tr>\n",
       "    <tr>\n",
       "      <th>6</th>\n",
       "      <td>Modelo 6</td>\n",
       "      <td>0.598802</td>\n",
       "    </tr>\n",
       "    <tr>\n",
       "      <th>2</th>\n",
       "      <td>Modelo 2</td>\n",
       "      <td>0.616751</td>\n",
       "    </tr>\n",
       "    <tr>\n",
       "      <th>4</th>\n",
       "      <td>Modelo 4</td>\n",
       "      <td>0.629182</td>\n",
       "    </tr>\n",
       "    <tr>\n",
       "      <th>1</th>\n",
       "      <td>Modelo 1</td>\n",
       "      <td>0.647716</td>\n",
       "    </tr>\n",
       "    <tr>\n",
       "      <th>5</th>\n",
       "      <td>Modelo 5</td>\n",
       "      <td>0.647828</td>\n",
       "    </tr>\n",
       "    <tr>\n",
       "      <th>3</th>\n",
       "      <td>Modelo 3</td>\n",
       "      <td>0.703115</td>\n",
       "    </tr>\n",
       "  </tbody>\n",
       "</table>\n",
       "</div>"
      ],
      "text/plain": [
       "  Nombre del Modelo      RMSE\n",
       "0          Modelo 0  0.559971\n",
       "7          Modelo 7  0.598285\n",
       "6          Modelo 6  0.598802\n",
       "2          Modelo 2  0.616751\n",
       "4          Modelo 4  0.629182\n",
       "1          Modelo 1  0.647716\n",
       "5          Modelo 5  0.647828\n",
       "3          Modelo 3  0.703115"
      ]
     },
     "execution_count": 36,
     "metadata": {},
     "output_type": "execute_result"
    }
   ],
   "source": [
    "tabla_rmse.sort_values(by='RMSE', ascending=True)"
   ]
  },
  {
   "cell_type": "markdown",
   "metadata": {},
   "source": [
    "Con estos resultados se utilizan el modelo 0 y el 7 para el siguiente punto de LOOCV"
   ]
  }
 ],
 "metadata": {
  "kernelspec": {
   "display_name": "base",
   "language": "python",
   "name": "python3"
  },
  "language_info": {
   "codemirror_mode": {
    "name": "ipython",
    "version": 3
   },
   "file_extension": ".py",
   "mimetype": "text/x-python",
   "name": "python",
   "nbconvert_exporter": "python",
   "pygments_lexer": "ipython3",
   "version": "3.9.12"
  }
 },
 "nbformat": 4,
 "nbformat_minor": 2
}
