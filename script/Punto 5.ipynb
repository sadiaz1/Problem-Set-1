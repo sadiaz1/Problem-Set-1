{
 "cells": [
  {
   "cell_type": "code",
   "execution_count": 2,
   "metadata": {},
   "outputs": [],
   "source": [
    "import pandas as pd\n",
    "import numpy as np\n",
    "from sklearn.linear_model import LinearRegression\n",
    "from sklearn.metrics import mean_squared_error, r2_score\n",
    "import statsmodels.api as sm\n",
    "from sklearn.model_selection import train_test_split\n",
    "from sklearn.linear_model import LassoCV\n",
    "from sklearn.preprocessing import StandardScaler\n"
   ]
  },
  {
   "cell_type": "code",
   "execution_count": 3,
   "metadata": {},
   "outputs": [],
   "source": [
    "import os\n",
    "os.chdir(r\"C:\\Users\\dsala\\Downloads\")"
   ]
  },
  {
   "cell_type": "code",
   "execution_count": 30,
   "metadata": {},
   "outputs": [],
   "source": [
    "\n",
    "# Cargar la base de datos\n",
    "base = pd.read_csv('GEIH2018_filtered_data.csv')\n",
    "\n",
    "# Crear la variable 'Log_salario'\n",
    "base['Log_salario'] = np.log(base['y_total_m_ha'])\n",
    "\n",
    "# Eliminar las variables que tienen colinealidad con la dependiente\n",
    "base_reducida = base.drop(columns=['y_total_m_ha', 'y_total_m', 'ingtot', 'Log_salario', 'dominio','orden','secuencia_p','directorio','clase','p6240','p7040','depto','mes'])"
   ]
  },
  {
   "cell_type": "code",
   "execution_count": 31,
   "metadata": {},
   "outputs": [],
   "source": [
    "\n",
    "\n",
    "categorical_vars = ['estrato1', 'p6210', 'relab', 'sizeFirm']\n",
    "\n",
    "# Crear dummies solo para las variables categóricas especificadas, eliminando la original\n",
    "base_dummies = pd.get_dummies(base_reducida, columns=categorical_vars, drop_first=True)\n",
    "\n"
   ]
  },
  {
   "cell_type": "code",
   "execution_count": 34,
   "metadata": {},
   "outputs": [
    {
     "data": {
      "text/plain": [
       "0        1\n",
       "1        1\n",
       "2        1\n",
       "3        2\n",
       "4        1\n",
       "        ..\n",
       "12821    2\n",
       "12822    2\n",
       "12823    1\n",
       "12824    1\n",
       "12825    1\n",
       "Name: p6920, Length: 12826, dtype: int64"
      ]
     },
     "execution_count": 34,
     "metadata": {},
     "output_type": "execute_result"
    }
   ],
   "source": [
    "base_dummies['p6920']"
   ]
  },
  {
   "cell_type": "code",
   "execution_count": 35,
   "metadata": {},
   "outputs": [],
   "source": [
    "numericas = ['age',  'p6426', 'p6870', 'p7070', \n",
    "                'maxEducLevel', 'totalHoursWorked']\n",
    "\n",
    "# Crear el cuadrado de las variables numéricas\n",
    "for i in numericas:\n",
    "    base_dummies[f'{i}^2'] = base_reducida[i] ** 2"
   ]
  },
  {
   "cell_type": "code",
   "execution_count": 37,
   "metadata": {},
   "outputs": [],
   "source": [
    "base_dummies['Log_salario']=base['Log_salario']\n"
   ]
  },
  {
   "cell_type": "code",
   "execution_count": null,
   "metadata": {},
   "outputs": [],
   "source": []
  },
  {
   "cell_type": "code",
   "execution_count": 38,
   "metadata": {},
   "outputs": [],
   "source": [
    "# Definir la variable dependiente (Log_salario)\n",
    "X = base_dummies.drop(columns=['Log_salario']) \n",
    "y = base_dummies['Log_salario']\n",
    "\n",
    "seed=202013547\n",
    "\n",
    "# Dividir la base de datos en conjunto de entrenamiento y prueba (70% - 30%)\n",
    "X_train, X_test, y_train, y_test = train_test_split(X, y, test_size=0.3, random_state=seed)"
   ]
  },
  {
   "cell_type": "code",
   "execution_count": 44,
   "metadata": {},
   "outputs": [],
   "source": [
    "# Convertir todas las columnas de tipo 'bool' a 'int'\n",
    "X_train = X_train.apply(lambda x: x.astype(int) if x.dtype == 'bool' else x)\n",
    "X_test = X_test.apply(lambda x: x.astype(int) if x.dtype == 'bool' else x)\n",
    "\n",
    "\n"
   ]
  },
  {
   "cell_type": "markdown",
   "metadata": {},
   "source": [
    "backward elimination para reducir X"
   ]
  },
  {
   "cell_type": "code",
   "execution_count": 45,
   "metadata": {},
   "outputs": [
    {
     "name": "stdout",
     "output_type": "stream",
     "text": [
      "Variables seleccionadas por Backward Elimination: ['const', 'age', 'sex', 'p6426', 'p6870', 'p7070', 'maxEducLevel', 'totalHoursWorked', 'formal', 'informal', 'cuentaPropia', 'microEmpresa', 'estrato1_3', 'estrato1_4', 'estrato1_5', 'estrato1_6', 'p6210_3', 'p6210_4', 'p6210_6', 'p6210_9', 'relab_2', 'relab_4', 'relab_5', 'sizeFirm_3', 'sizeFirm_4', 'sizeFirm_5', 'age^2', 'p6426^2', 'p6870^2', 'p7070^2', 'maxEducLevel^2', 'totalHoursWorked^2']\n"
     ]
    }
   ],
   "source": [
    "def backward_elimination(X, y, significance_level=0.05):\n",
    "    features = list(X.columns)\n",
    "    while len(features) > 0:\n",
    "        X_with_const = sm.add_constant(X[features])\n",
    "        model = sm.OLS(y, X_with_const).fit()\n",
    "        pvalues = model.pvalues.iloc[1:]  # Excluir la constante\n",
    "        max_pval = pvalues.max()\n",
    "        if max_pval > significance_level:\n",
    "            excluded_feature = pvalues.idxmax()\n",
    "            features.remove(excluded_feature)\n",
    "        else:\n",
    "            break\n",
    "    return features\n",
    "\n",
    "# Aplicar Backward Elimination\n",
    "selected_features_backward = backward_elimination(X_train, y_train)\n",
    "print(\"Variables seleccionadas por Backward Elimination:\", selected_features_backward)\n"
   ]
  },
  {
   "cell_type": "code",
   "execution_count": 64,
   "metadata": {},
   "outputs": [],
   "source": [
    "segundo_back=backward_elimination(X_train[selected_features_backward],y_train)"
   ]
  },
  {
   "cell_type": "code",
   "execution_count": 73,
   "metadata": {},
   "outputs": [
    {
     "data": {
      "text/plain": [
       "['const',\n",
       " 'age',\n",
       " 'sex',\n",
       " 'p6426',\n",
       " 'p6870',\n",
       " 'p7070',\n",
       " 'maxEducLevel',\n",
       " 'totalHoursWorked',\n",
       " 'formal',\n",
       " 'informal',\n",
       " 'cuentaPropia',\n",
       " 'microEmpresa',\n",
       " 'estrato1_3',\n",
       " 'estrato1_4',\n",
       " 'estrato1_5',\n",
       " 'estrato1_6',\n",
       " 'p6210_3',\n",
       " 'p6210_4',\n",
       " 'p6210_6',\n",
       " 'p6210_9',\n",
       " 'relab_2',\n",
       " 'relab_4',\n",
       " 'relab_5',\n",
       " 'sizeFirm_3',\n",
       " 'sizeFirm_4',\n",
       " 'sizeFirm_5',\n",
       " 'age^2',\n",
       " 'p6426^2',\n",
       " 'p6870^2',\n",
       " 'maxEducLevel^2',\n",
       " 'totalHoursWorked^2']"
      ]
     },
     "execution_count": 73,
     "metadata": {},
     "output_type": "execute_result"
    }
   ],
   "source": [
    "segundo_back"
   ]
  },
  {
   "cell_type": "markdown",
   "metadata": {},
   "source": [
    "LASSO para reducir más las variables y empezar a probar modelos"
   ]
  },
  {
   "cell_type": "code",
   "execution_count": 74,
   "metadata": {},
   "outputs": [],
   "source": [
    "\n",
    "X_train_selected = X_train[segundo_back[1:]]\n",
    "X_test_selected = X_test[segundo_back[1:]]"
   ]
  },
  {
   "cell_type": "code",
   "execution_count": 79,
   "metadata": {},
   "outputs": [
    {
     "name": "stdout",
     "output_type": "stream",
     "text": [
      "Variables seleccionadas por Lasso: ['age' 'sex' 'p6426' 'p6870' 'p7070' 'maxEducLevel' 'totalHoursWorked'\n",
      " 'formal' 'informal' 'cuentaPropia' 'microEmpresa' 'estrato1_3'\n",
      " 'estrato1_4' 'estrato1_5' 'estrato1_6' 'p6210_3' 'p6210_4' 'p6210_6'\n",
      " 'relab_2' 'relab_4' 'relab_5' 'sizeFirm_3' 'sizeFirm_5' 'age^2' 'p6426^2'\n",
      " 'p6870^2' 'totalHoursWorked^2']\n",
      "                            OLS Regression Results                            \n",
      "==============================================================================\n",
      "Dep. Variable:            Log_salario   R-squared:                       0.583\n",
      "Model:                            OLS   Adj. R-squared:                  0.582\n",
      "Method:                 Least Squares   F-statistic:                     501.6\n",
      "Date:                Sun, 15 Sep 2024   Prob (F-statistic):               0.00\n",
      "Time:                        12:05:56   Log-Likelihood:                -6774.7\n",
      "No. Observations:                8978   AIC:                         1.360e+04\n",
      "Df Residuals:                    8952   BIC:                         1.379e+04\n",
      "Df Model:                          25                                         \n",
      "Covariance Type:            nonrobust                                         \n",
      "======================================================================================\n",
      "                         coef    std err          t      P>|t|      [0.025      0.975]\n",
      "--------------------------------------------------------------------------------------\n",
      "const                  4.9706      0.084     58.993      0.000       4.805       5.136\n",
      "age                    0.0479      0.003     17.811      0.000       0.043       0.053\n",
      "sex                    0.1643      0.011     14.671      0.000       0.142       0.186\n",
      "p6426                  0.0016      0.000      9.604      0.000       0.001       0.002\n",
      "p6870                  0.1488      0.020      7.563      0.000       0.110       0.187\n",
      "p7070               2.266e-07   2.13e-08     10.641      0.000    1.85e-07    2.68e-07\n",
      "maxEducLevel           0.0636      0.013      4.911      0.000       0.038       0.089\n",
      "totalHoursWorked      -0.0295      0.002    -14.466      0.000      -0.033      -0.025\n",
      "formal                 2.5965      0.043     59.918      0.000       2.512       2.681\n",
      "informal               2.3741      0.043     55.841      0.000       2.291       2.457\n",
      "cuentaPropia           0.0278      0.009      3.181      0.001       0.011       0.045\n",
      "microEmpresa           0.1071      0.046      2.309      0.021       0.016       0.198\n",
      "estrato1_3             0.1447      0.012     11.622      0.000       0.120       0.169\n",
      "estrato1_4             0.6611      0.024     27.367      0.000       0.614       0.708\n",
      "estrato1_5             0.9840      0.041     23.764      0.000       0.903       1.065\n",
      "estrato1_6             1.3791      0.038     36.265      0.000       1.305       1.454\n",
      "p6210_3                0.0498      0.034      1.470      0.142      -0.017       0.116\n",
      "p6210_4                0.0328      0.022      1.481      0.139      -0.011       0.076\n",
      "p6210_6                0.2479      0.020     12.636      0.000       0.209       0.286\n",
      "relab_2                0.3068      0.029     10.426      0.000       0.249       0.364\n",
      "relab_4                0.0278      0.009      3.181      0.001       0.011       0.045\n",
      "relab_5                0.3833      0.033     11.693      0.000       0.319       0.448\n",
      "sizeFirm_3             0.0370      0.034      1.097      0.273      -0.029       0.103\n",
      "sizeFirm_5            -0.0202      0.052     -0.385      0.701      -0.123       0.083\n",
      "age^2                 -0.0006   3.19e-05    -17.849      0.000      -0.001      -0.001\n",
      "p6426^2            -2.111e-06    4.3e-07     -4.906      0.000   -2.95e-06   -1.27e-06\n",
      "p6870^2               -0.0074      0.002     -3.572      0.000      -0.011      -0.003\n",
      "totalHoursWorked^2     0.0001   1.73e-05      7.511      0.000    9.58e-05       0.000\n",
      "==============================================================================\n",
      "Omnibus:                      724.626   Durbin-Watson:                   1.992\n",
      "Prob(Omnibus):                  0.000   Jarque-Bera (JB):             4345.601\n",
      "Skew:                          -0.071   Prob(JB):                         0.00\n",
      "Kurtosis:                       6.405   Cond. No.                     1.13e+16\n",
      "==============================================================================\n",
      "\n",
      "Notes:\n",
      "[1] Standard Errors assume that the covariance matrix of the errors is correctly specified.\n",
      "[2] The smallest eigenvalue is 4.7e-18. This might indicate that there are\n",
      "strong multicollinearity problems or that the design matrix is singular.\n",
      "RMSE del modelo con Lasso: 0.5346\n"
     ]
    }
   ],
   "source": [
    "from sklearn.preprocessing import StandardScaler\n",
    "from sklearn.linear_model import LassoCV\n",
    "from sklearn.metrics import mean_squared_error\n",
    "import numpy as np\n",
    "import statsmodels.api as sm\n",
    "\n",
    "# Escalar solo las variables seleccionadas\n",
    "scaler = StandardScaler()\n",
    "X_train_scaled = scaler.fit_transform(X_train_selected)\n",
    "X_test_scaled = scaler.transform(X_test_selected)\n",
    "\n",
    "# Aplicar LassoCV para seleccionar variables\n",
    "lasso = LassoCV(cv=5, random_state=0).fit(X_train_scaled, y_train)\n",
    "\n",
    "# Identificar las variables que sobrevivieron al Lasso\n",
    "variables_lasso = np.array(X_train_selected.columns)[lasso.coef_ != 0]\n",
    "print(\"Variables seleccionadas por Lasso:\", variables_lasso)\n",
    "\n",
    "# Ajustar el modelo final con las variables seleccionadas por Lasso\n",
    "X_train_lasso = X_train[variables_lasso]\n",
    "X_test_lasso = X_test[variables_lasso]\n",
    "\n",
    "# Reentrenar el modelo con las variables seleccionadas\n",
    "modelo_lasso = sm.OLS(y_train, sm.add_constant(X_train_lasso)).fit()\n",
    "\n",
    "# Resultados del modelo Lasso\n",
    "print(modelo_lasso.summary())\n",
    "\n",
    "# Predecir en el conjunto de prueba\n",
    "y_pred_lasso = modelo_lasso.predict(sm.add_constant(X_test_lasso))\n",
    "\n",
    "# Evaluar el modelo (RMSE)\n",
    "rmse_lasso = np.sqrt(mean_squared_error(y_test, y_pred_lasso))\n",
    "print(f\"RMSE del modelo con Lasso: {rmse_lasso:.4f}\")\n"
   ]
  },
  {
   "cell_type": "markdown",
   "metadata": {},
   "source": [
    "Se volvió a correr un backward sobre las sobrevivientes de lasso para reducir aún más"
   ]
  },
  {
   "cell_type": "code",
   "execution_count": 80,
   "metadata": {},
   "outputs": [],
   "source": [
    "tercer_back=backward_elimination(X_train[variables_lasso],y_train)"
   ]
  },
  {
   "cell_type": "code",
   "execution_count": 81,
   "metadata": {},
   "outputs": [
    {
     "data": {
      "text/plain": [
       "23"
      ]
     },
     "execution_count": 81,
     "metadata": {},
     "output_type": "execute_result"
    }
   ],
   "source": [
    "len(tercer_back)"
   ]
  },
  {
   "cell_type": "markdown",
   "metadata": {},
   "source": [
    "finalmente se quitaron variables con una alta correlación"
   ]
  },
  {
   "cell_type": "code",
   "execution_count": 82,
   "metadata": {},
   "outputs": [
    {
     "name": "stdout",
     "output_type": "stream",
     "text": [
      "Variables después de eliminar alta correlación: ['age', 'sex', 'p6426', 'p6870', 'p7070', 'maxEducLevel', 'totalHoursWorked', 'formal', 'cuentaPropia', 'microEmpresa', 'estrato1_3', 'estrato1_4', 'estrato1_5', 'estrato1_6', 'p6210_6', 'relab_2', 'relab_5']\n"
     ]
    }
   ],
   "source": [
    "# Calcular la matriz de correlación\n",
    "correlacion = X_train[tercer_back].corr().abs()\n",
    "\n",
    "# Seleccionar características con alta correlación \n",
    "umbral_correlacion = 0.9\n",
    "columnas_eliminar = set()\n",
    "for i in range(len(correlacion.columns)):\n",
    "    for j in range(i):\n",
    "        if correlacion.iloc[i, j] > umbral_correlacion:\n",
    "            colname = correlacion.columns[i]\n",
    "            columnas_eliminar.add(colname)\n",
    "\n",
    "# Eliminar las variables con alta correlación\n",
    "X_train_ultimo = X_train[tercer_back].drop(columns=columnas_eliminar)\n",
    "print(f\"Variables después de eliminar alta correlación: {X_train_ultimo.columns.tolist()}\")\n"
   ]
  },
  {
   "cell_type": "code",
   "execution_count": 102,
   "metadata": {},
   "outputs": [
    {
     "data": {
      "text/plain": [
       "Index(['age', 'sex', 'p6426', 'p6870', 'p7070', 'maxEducLevel',\n",
       "       'totalHoursWorked', 'formal', 'cuentaPropia', 'microEmpresa',\n",
       "       'estrato1_3', 'estrato1_4', 'estrato1_5', 'estrato1_6', 'p6210_6',\n",
       "       'relab_2', 'relab_5'],\n",
       "      dtype='object')"
      ]
     },
     "execution_count": 102,
     "metadata": {},
     "output_type": "execute_result"
    }
   ],
   "source": [
    "X_train_ultimo.columns"
   ]
  },
  {
   "cell_type": "markdown",
   "metadata": {},
   "source": [
    "Con las vraibels sobrevivientes de todos estos porcesos se empiezan a probar los siguientes modelos"
   ]
  },
  {
   "cell_type": "markdown",
   "metadata": {},
   "source": [
    "modelo 0"
   ]
  },
  {
   "cell_type": "code",
   "execution_count": 85,
   "metadata": {},
   "outputs": [
    {
     "name": "stdout",
     "output_type": "stream",
     "text": [
      "                            OLS Regression Results                            \n",
      "==============================================================================\n",
      "Dep. Variable:            Log_salario   R-squared:                       0.561\n",
      "Model:                            OLS   Adj. R-squared:                  0.560\n",
      "Method:                 Least Squares   F-statistic:                     673.0\n",
      "Date:                Sun, 15 Sep 2024   Prob (F-statistic):               0.00\n",
      "Time:                        12:10:26   Log-Likelihood:                -7012.8\n",
      "No. Observations:                8978   AIC:                         1.406e+04\n",
      "Df Residuals:                    8960   BIC:                         1.419e+04\n",
      "Df Model:                          17                                         \n",
      "Covariance Type:            nonrobust                                         \n",
      "====================================================================================\n",
      "                       coef    std err          t      P>|t|      [0.025      0.975]\n",
      "------------------------------------------------------------------------------------\n",
      "const                8.1305      0.063    129.532      0.000       8.007       8.254\n",
      "age                  0.0015      0.001      2.685      0.007       0.000       0.003\n",
      "sex                  0.1581      0.011     13.811      0.000       0.136       0.181\n",
      "p6426                0.0007   7.51e-05      9.067      0.000       0.001       0.001\n",
      "p6870                0.0455      0.004     11.474      0.000       0.038       0.053\n",
      "p7070             2.346e-07   2.18e-08     10.736      0.000    1.92e-07    2.77e-07\n",
      "maxEducLevel         0.0568      0.008      7.545      0.000       0.042       0.072\n",
      "totalHoursWorked    -0.0137      0.000    -29.502      0.000      -0.015      -0.013\n",
      "formal               0.2490      0.017     14.926      0.000       0.216       0.282\n",
      "cuentaPropia         0.0389      0.016      2.423      0.015       0.007       0.070\n",
      "microEmpresa        -0.0435      0.026     -1.693      0.090      -0.094       0.007\n",
      "estrato1_3           0.1470      0.013     11.507      0.000       0.122       0.172\n",
      "estrato1_4           0.6715      0.025     27.119      0.000       0.623       0.720\n",
      "estrato1_5           0.9865      0.042     23.232      0.000       0.903       1.070\n",
      "estrato1_6           1.3839      0.039     35.473      0.000       1.307       1.460\n",
      "p6210_6              0.2516      0.018     14.293      0.000       0.217       0.286\n",
      "relab_2              0.3470      0.030     11.603      0.000       0.288       0.406\n",
      "relab_5              0.4349      0.033     13.069      0.000       0.370       0.500\n",
      "==============================================================================\n",
      "Omnibus:                      759.592   Durbin-Watson:                   2.001\n",
      "Prob(Omnibus):                  0.000   Jarque-Bera (JB):             4717.765\n",
      "Skew:                          -0.103   Prob(JB):                         0.00\n",
      "Kurtosis:                       6.545   Cond. No.                     2.99e+06\n",
      "==============================================================================\n",
      "\n",
      "Notes:\n",
      "[1] Standard Errors assume that the covariance matrix of the errors is correctly specified.\n",
      "[2] The condition number is large, 2.99e+06. This might indicate that there are\n",
      "strong multicollinearity or other numerical problems.\n",
      "RMSE modelo 0 : 0.5462\n"
     ]
    },
    {
     "name": "stderr",
     "output_type": "stream",
     "text": [
      "c:\\Users\\dsala\\anaconda3\\lib\\site-packages\\sklearn\\metrics\\_regression.py:483: FutureWarning: 'squared' is deprecated in version 1.4 and will be removed in 1.6. To calculate the root mean squared error, use the function'root_mean_squared_error'.\n",
      "  warnings.warn(\n"
     ]
    }
   ],
   "source": [
    "# Definir las variables del modelo \n",
    "columnas_finales = X_train_ultimo.columns.tolist()\n",
    "\n",
    "# Seleccionar las mismas variabackwardbles en el conjunto de prueba\n",
    "X_test_reducido = X_test[columnas_finales]\n",
    "\n",
    "# Añadir la constante \n",
    "X_train_reducido_const = sm.add_constant(X_train_ultimo)\n",
    "X_test_reducido_const = sm.add_constant(X_test_reducido)\n",
    "\n",
    "# Ajustar el modelo de regresión lineal\n",
    "modelo_0 = sm.OLS(y_train, X_train_reducido_const).fit()\n",
    "\n",
    "# tabla\n",
    "print(modelo_0.summary())\n",
    "\n",
    "# Realizar predicciones en el conjunto de prueba\n",
    "y_pred = modelo_0.predict(X_test_reducido_const)\n",
    "\n",
    "# Evaluar el modelo (RMSE)\n",
    "rmse_0 = mean_squared_error(y_test, y_pred, squared=False)\n",
    "print(f\"RMSE modelo 0 : {rmse_0:.4f}\")\n"
   ]
  },
  {
   "cell_type": "code",
   "execution_count": 86,
   "metadata": {},
   "outputs": [
    {
     "data": {
      "text/plain": [
       "Index(['age', 'sex', 'p6426', 'p6870', 'p7070', 'maxEducLevel',\n",
       "       'totalHoursWorked', 'formal', 'cuentaPropia', 'microEmpresa',\n",
       "       'estrato1_3', 'estrato1_4', 'estrato1_5', 'estrato1_6', 'p6210_6',\n",
       "       'relab_2', 'relab_5'],\n",
       "      dtype='object')"
      ]
     },
     "execution_count": 86,
     "metadata": {},
     "output_type": "execute_result"
    }
   ],
   "source": [
    "X_train_ultimo.columns"
   ]
  },
  {
   "cell_type": "markdown",
   "metadata": {},
   "source": [
    "modelo 1"
   ]
  },
  {
   "cell_type": "code",
   "execution_count": 87,
   "metadata": {},
   "outputs": [
    {
     "name": "stdout",
     "output_type": "stream",
     "text": [
      "Modelo 1 Summary:\n",
      "                            OLS Regression Results                            \n",
      "==============================================================================\n",
      "Dep. Variable:            Log_salario   R-squared:                       0.421\n",
      "Model:                            OLS   Adj. R-squared:                  0.421\n",
      "Method:                 Least Squares   F-statistic:                     933.3\n",
      "Date:                Sun, 15 Sep 2024   Prob (F-statistic):               0.00\n",
      "Time:                        12:13:07   Log-Likelihood:                -8250.2\n",
      "No. Observations:                8978   AIC:                         1.652e+04\n",
      "Df Residuals:                    8970   BIC:                         1.657e+04\n",
      "Df Model:                           7                                         \n",
      "Covariance Type:            nonrobust                                         \n",
      "======================================================================================\n",
      "                         coef    std err          t      P>|t|      [0.025      0.975]\n",
      "--------------------------------------------------------------------------------------\n",
      "const                  8.0285      0.089     90.155      0.000       7.854       8.203\n",
      "age                    0.0568      0.003     18.761      0.000       0.051       0.063\n",
      "totalHoursWorked      -0.0327      0.002    -13.862      0.000      -0.037      -0.028\n",
      "sex                    0.1856      0.013     14.217      0.000       0.160       0.211\n",
      "p6210_6                0.6192      0.014     44.140      0.000       0.592       0.647\n",
      "formal                 0.4892      0.014     33.788      0.000       0.461       0.518\n",
      "age^2                 -0.0006    3.6e-05    -16.989      0.000      -0.001      -0.001\n",
      "totalHoursWorked^2     0.0002      2e-05      7.689      0.000       0.000       0.000\n",
      "==============================================================================\n",
      "Omnibus:                      890.011   Durbin-Watson:                   1.997\n",
      "Prob(Omnibus):                  0.000   Jarque-Bera (JB):             3905.331\n",
      "Skew:                           0.404   Prob(JB):                         0.00\n",
      "Kurtosis:                       6.128   Cond. No.                     4.79e+04\n",
      "==============================================================================\n",
      "\n",
      "Notes:\n",
      "[1] Standard Errors assume that the covariance matrix of the errors is correctly specified.\n",
      "[2] The condition number is large, 4.79e+04. This might indicate that there are\n",
      "strong multicollinearity or other numerical problems.\n",
      "RMSE modelo 1 : 0.6170\n"
     ]
    },
    {
     "name": "stderr",
     "output_type": "stream",
     "text": [
      "c:\\Users\\dsala\\anaconda3\\lib\\site-packages\\sklearn\\metrics\\_regression.py:483: FutureWarning: 'squared' is deprecated in version 1.4 and will be removed in 1.6. To calculate the root mean squared error, use the function'root_mean_squared_error'.\n",
      "  warnings.warn(\n"
     ]
    }
   ],
   "source": [
    "X_train_nl1 = X_train[['age', 'totalHoursWorked', 'sex', 'p6210_6','formal']].copy()\n",
    "X_test_nl1 = X_test[['age', 'totalHoursWorked', 'sex', 'p6210_6','formal']].copy()\n",
    "\n",
    "X_train_nl1['age^2'] = X_train_nl1['age'] ** 2\n",
    "X_train_nl1['totalHoursWorked^2'] = X_train_nl1['totalHoursWorked'] ** 2\n",
    "\n",
    "X_test_nl1['age^2'] = X_test_nl1['age'] ** 2\n",
    "X_test_nl1['totalHoursWorked^2'] = X_test_nl1['totalHoursWorked'] ** 2\n",
    "\n",
    "\n",
    "X_train_nl1_const = sm.add_constant(X_train_nl1)\n",
    "X_test_nl1_const = sm.add_constant(X_test_nl1)\n",
    "\n",
    "modelo_1 = sm.OLS(y_train, X_train_nl1_const).fit()\n",
    "y_pred_1 = modelo_1.predict(X_test_nl1_const)\n",
    "rmse_1 = mean_squared_error(y_test, y_pred_1, squared=False)\n",
    "\n",
    "print(\"Modelo 1 Summary:\")\n",
    "print(modelo_1.summary())\n",
    "print(f\"RMSE modelo 1 : {rmse_1:.4f}\")"
   ]
  },
  {
   "cell_type": "markdown",
   "metadata": {},
   "source": [
    "Modelo 2"
   ]
  },
  {
   "cell_type": "code",
   "execution_count": 88,
   "metadata": {},
   "outputs": [
    {
     "name": "stdout",
     "output_type": "stream",
     "text": [
      "Modelo 2 Summary:\n",
      "                            OLS Regression Results                            \n",
      "==============================================================================\n",
      "Dep. Variable:            Log_salario   R-squared:                       0.261\n",
      "Model:                            OLS   Adj. R-squared:                  0.261\n",
      "Method:                 Least Squares   F-statistic:                     634.4\n",
      "Date:                Sun, 15 Sep 2024   Prob (F-statistic):               0.00\n",
      "Time:                        12:14:03   Log-Likelihood:                -9347.4\n",
      "No. Observations:                8978   AIC:                         1.871e+04\n",
      "Df Residuals:                    8972   BIC:                         1.875e+04\n",
      "Df Model:                           5                                         \n",
      "Covariance Type:            nonrobust                                         \n",
      "==================================================================================\n",
      "                     coef    std err          t      P>|t|      [0.025      0.975]\n",
      "----------------------------------------------------------------------------------\n",
      "const              9.1993      0.103     88.922      0.000       8.996       9.402\n",
      "p7070           3.377e-07   2.86e-08     11.815      0.000    2.82e-07    3.94e-07\n",
      "maxEducLevel      -0.6153      0.040    -15.253      0.000      -0.694      -0.536\n",
      "cuentaPropia      -0.2226      0.017    -13.376      0.000      -0.255      -0.190\n",
      "p7070^2        -9.426e-11   3.62e-11     -2.602      0.009   -1.65e-10   -2.33e-11\n",
      "maxEducLevel^2     0.0856      0.004     22.350      0.000       0.078       0.093\n",
      "==============================================================================\n",
      "Omnibus:                      755.178   Durbin-Watson:                   1.987\n",
      "Prob(Omnibus):                  0.000   Jarque-Bera (JB):             2245.475\n",
      "Skew:                           0.446   Prob(JB):                         0.00\n",
      "Kurtosis:                       5.282   Cond. No.                     3.11e+09\n",
      "==============================================================================\n",
      "\n",
      "Notes:\n",
      "[1] Standard Errors assume that the covariance matrix of the errors is correctly specified.\n",
      "[2] The condition number is large, 3.11e+09. This might indicate that there are\n",
      "strong multicollinearity or other numerical problems.\n",
      "RMSE Modelo 2: 0.7003\n"
     ]
    },
    {
     "name": "stderr",
     "output_type": "stream",
     "text": [
      "c:\\Users\\dsala\\anaconda3\\lib\\site-packages\\sklearn\\metrics\\_regression.py:483: FutureWarning: 'squared' is deprecated in version 1.4 and will be removed in 1.6. To calculate the root mean squared error, use the function'root_mean_squared_error'.\n",
      "  warnings.warn(\n"
     ]
    }
   ],
   "source": [
    "X_train_nl2 = X_train[['p7070', 'maxEducLevel', 'cuentaPropia']].copy()\n",
    "X_test_nl2 = X_test[['p7070', 'maxEducLevel', 'cuentaPropia']].copy()\n",
    "\n",
    "X_train_nl2['p7070^2'] = X_train_nl2['p7070'] ** 2\n",
    "X_train_nl2['maxEducLevel^2'] = X_train_nl2['maxEducLevel'] ** 2\n",
    "\n",
    "X_test_nl2['p7070^2'] = X_test_nl2['p7070'] ** 2\n",
    "X_test_nl2['maxEducLevel^2'] = X_test_nl2['maxEducLevel'] ** 2\n",
    "\n",
    "X_train_nl2_const = sm.add_constant(X_train_nl2)\n",
    "X_test_nl2_const = sm.add_constant(X_test_nl2)\n",
    "\n",
    "modelo_2 = sm.OLS(y_train, X_train_nl2_const).fit()\n",
    "y_pred_2 = modelo_2.predict(X_test_nl2_const)\n",
    "rmse_2 = mean_squared_error(y_test, y_pred_2, squared=False)\n",
    "\n",
    "print(\"Modelo 2 Summary:\")\n",
    "print(modelo_2.summary())\n",
    "print(f\"RMSE Modelo 2: {rmse_2:.4f}\")"
   ]
  },
  {
   "cell_type": "markdown",
   "metadata": {},
   "source": [
    "Modelo 3"
   ]
  },
  {
   "cell_type": "code",
   "execution_count": 94,
   "metadata": {},
   "outputs": [
    {
     "name": "stdout",
     "output_type": "stream",
     "text": [
      "Modelo 3 Summary:\n",
      "                            OLS Regression Results                            \n",
      "==============================================================================\n",
      "Dep. Variable:            Log_salario   R-squared:                       0.231\n",
      "Model:                            OLS   Adj. R-squared:                  0.231\n",
      "Method:                 Least Squares   F-statistic:                     450.1\n",
      "Date:                Sun, 15 Sep 2024   Prob (F-statistic):               0.00\n",
      "Time:                        12:21:23   Log-Likelihood:                -9525.1\n",
      "No. Observations:                8978   AIC:                         1.906e+04\n",
      "Df Residuals:                    8971   BIC:                         1.911e+04\n",
      "Df Model:                           6                                         \n",
      "Covariance Type:            nonrobust                                         \n",
      "==============================================================================\n",
      "                 coef    std err          t      P>|t|      [0.025      0.975]\n",
      "------------------------------------------------------------------------------\n",
      "const          7.2991      0.070    103.536      0.000       7.161       7.437\n",
      "age            0.0414      0.004     11.449      0.000       0.034       0.049\n",
      "p6426          0.0023      0.000     10.537      0.000       0.002       0.003\n",
      "sex            0.0700      0.015      4.705      0.000       0.041       0.099\n",
      "formal         0.7126      0.016     45.501      0.000       0.682       0.743\n",
      "age^2         -0.0005    4.3e-05    -12.038      0.000      -0.001      -0.000\n",
      "p6426^2    -2.666e-06   5.81e-07     -4.587      0.000   -3.81e-06   -1.53e-06\n",
      "==============================================================================\n",
      "Omnibus:                     1382.875   Durbin-Watson:                   1.996\n",
      "Prob(Omnibus):                  0.000   Jarque-Bera (JB):             3855.886\n",
      "Skew:                           0.831   Prob(JB):                         0.00\n",
      "Kurtosis:                       5.747   Cond. No.                     3.27e+05\n",
      "==============================================================================\n",
      "\n",
      "Notes:\n",
      "[1] Standard Errors assume that the covariance matrix of the errors is correctly specified.\n",
      "[2] The condition number is large, 3.27e+05. This might indicate that there are\n",
      "strong multicollinearity or other numerical problems.\n",
      "RMSE Modelo 3: 0.7038\n"
     ]
    },
    {
     "name": "stderr",
     "output_type": "stream",
     "text": [
      "c:\\Users\\dsala\\anaconda3\\lib\\site-packages\\sklearn\\metrics\\_regression.py:483: FutureWarning: 'squared' is deprecated in version 1.4 and will be removed in 1.6. To calculate the root mean squared error, use the function'root_mean_squared_error'.\n",
      "  warnings.warn(\n"
     ]
    }
   ],
   "source": [
    "X_train_nl3 = X_train[['age', 'p6426', 'sex', 'formal']].copy()\n",
    "X_test_nl3 = X_test[['age', 'p6426', 'sex', 'formal']].copy()\n",
    "\n",
    "X_train_nl3['age^2'] = X_train_nl3['age'] ** 2\n",
    "X_train_nl3['p6426^2'] = X_train_nl3['p6426'] ** 2\n",
    "\n",
    "X_test_nl3['age^2'] = X_test_nl3['age'] ** 2\n",
    "X_test_nl3['p6426^2'] = X_test_nl3['p6426'] ** 2\n",
    "\n",
    "X_train_nl3_const = sm.add_constant(X_train_nl3)\n",
    "X_test_nl3_const = sm.add_constant(X_test_nl3)\n",
    "\n",
    "modelo_3 = sm.OLS(y_train, X_train_nl3_const).fit()\n",
    "y_pred_3 = modelo_3.predict(X_test_nl3_const)\n",
    "rmse_3 = mean_squared_error(y_test, y_pred_3, squared=False)\n",
    "\n",
    "print(\"Modelo 3 Summary:\")\n",
    "print(modelo_3.summary())\n",
    "print(f\"RMSE Modelo 3: {rmse_3:.4f}\")\n"
   ]
  },
  {
   "cell_type": "markdown",
   "metadata": {},
   "source": [
    "modelo 7"
   ]
  },
  {
   "cell_type": "code",
   "execution_count": 98,
   "metadata": {},
   "outputs": [
    {
     "name": "stdout",
     "output_type": "stream",
     "text": [
      "RMSE Modelo 7: 0.5553\n"
     ]
    },
    {
     "name": "stderr",
     "output_type": "stream",
     "text": [
      "c:\\Users\\dsala\\anaconda3\\lib\\site-packages\\sklearn\\metrics\\_regression.py:483: FutureWarning: 'squared' is deprecated in version 1.4 and will be removed in 1.6. To calculate the root mean squared error, use the function'root_mean_squared_error'.\n",
      "  warnings.warn(\n"
     ]
    }
   ],
   "source": [
    "X_train_nl7 = X_train[['age', 'totalHoursWorked', 'formal', 'estrato1_3', 'estrato1_4', 'estrato1_5', 'estrato1_6', 'p6210_6',\n",
    "       'relab_2', 'relab_5', 'p6426', 'age^2', 'totalHoursWorked^2']].copy()\n",
    "X_train_nl7['age_formal'] = X_train['age'] * X_train['formal']\n",
    "X_train_nl7['totalHoursWorked2_estrato3'] = X_train['totalHoursWorked^2'] * X_train['estrato1_3']\n",
    "X_train_nl7['p6426_age2'] = X_train['p6426'] * X_train['age^2']\n",
    "\n",
    "X_test_nl7 = X_test[['age', 'totalHoursWorked', 'formal', 'estrato1_3', 'estrato1_4', 'estrato1_5', 'estrato1_6', 'p6210_6',\n",
    "       'relab_2', 'relab_5', 'p6426', 'age^2', 'totalHoursWorked^2']].copy()\n",
    "X_test_nl7['age_formal'] = X_test['age'] * X_test['formal']\n",
    "X_test_nl7['totalHoursWorked2_estrato1'] = X_test['totalHoursWorked^2'] * X_test['estrato1_3']\n",
    "X_test_nl7['p6426_age2'] = X_test['p6426'] * X_test['age^2']\n",
    "\n",
    "# Ajustar el modelo\n",
    "modelo_7 = sm.OLS(y_train, sm.add_constant(X_train_nl7)).fit()\n",
    "y_pred_7 = modelo_7.predict(sm.add_constant(X_test_nl7))\n",
    "\n",
    "# Calcular el RMSE\n",
    "rmse_7 = mean_squared_error(y_test, y_pred_7, squared=False)\n",
    "\n",
    "print(f\"RMSE Modelo 7: {rmse_7:.4f}\")"
   ]
  },
  {
   "cell_type": "code",
   "execution_count": 108,
   "metadata": {},
   "outputs": [
    {
     "name": "stdout",
     "output_type": "stream",
     "text": [
      "                            OLS Regression Results                            \n",
      "==============================================================================\n",
      "Dep. Variable:            Log_salario   R-squared:                       0.540\n",
      "Model:                            OLS   Adj. R-squared:                  0.539\n",
      "Method:                 Least Squares   F-statistic:                     658.3\n",
      "Date:                Sun, 15 Sep 2024   Prob (F-statistic):               0.00\n",
      "Time:                        12:31:28   Log-Likelihood:                -7217.6\n",
      "No. Observations:                8978   AIC:                         1.447e+04\n",
      "Df Residuals:                    8961   BIC:                         1.459e+04\n",
      "Df Model:                          16                                         \n",
      "Covariance Type:            nonrobust                                         \n",
      "==============================================================================================\n",
      "                                 coef    std err          t      P>|t|      [0.025      0.975]\n",
      "----------------------------------------------------------------------------------------------\n",
      "const                          8.2329      0.087     94.556      0.000       8.062       8.404\n",
      "age                            0.0420      0.003     12.618      0.000       0.035       0.048\n",
      "totalHoursWorked              -0.0236      0.002    -11.150      0.000      -0.028      -0.019\n",
      "formal                         0.2959      0.038      7.765      0.000       0.221       0.371\n",
      "estrato1_3                     0.1495      0.026      5.823      0.000       0.099       0.200\n",
      "estrato1_4                     0.6704      0.025     26.447      0.000       0.621       0.720\n",
      "estrato1_5                     0.9327      0.044     21.419      0.000       0.847       1.018\n",
      "estrato1_6                     1.3716      0.040     34.459      0.000       1.294       1.450\n",
      "p6210_6                        0.3662      0.014     26.635      0.000       0.339       0.393\n",
      "relab_2                        0.3999      0.030     13.226      0.000       0.341       0.459\n",
      "relab_5                        0.3791      0.033     11.656      0.000       0.315       0.443\n",
      "p6426                          0.0010      0.000      5.105      0.000       0.001       0.001\n",
      "age^2                         -0.0006   4.05e-05    -13.604      0.000      -0.001      -0.000\n",
      "totalHoursWorked^2          8.513e-05   1.82e-05      4.683      0.000    4.95e-05       0.000\n",
      "age_formal                     0.0039      0.001      4.194      0.000       0.002       0.006\n",
      "totalHoursWorked2_estrato3  1.472e-06   8.14e-06      0.181      0.857   -1.45e-05    1.74e-05\n",
      "p6426_age2                 -6.146e-08   6.19e-08     -0.992      0.321   -1.83e-07    5.99e-08\n",
      "==============================================================================\n",
      "Omnibus:                      768.423   Durbin-Watson:                   1.988\n",
      "Prob(Omnibus):                  0.000   Jarque-Bera (JB):             4680.881\n",
      "Skew:                          -0.138   Prob(JB):                         0.00\n",
      "Kurtosis:                       6.527   Cond. No.                     5.25e+06\n",
      "==============================================================================\n",
      "\n",
      "Notes:\n",
      "[1] Standard Errors assume that the covariance matrix of the errors is correctly specified.\n",
      "[2] The condition number is large, 5.25e+06. This might indicate that there are\n",
      "strong multicollinearity or other numerical problems.\n"
     ]
    }
   ],
   "source": [
    "print(modelo_7.summary())"
   ]
  },
  {
   "cell_type": "code",
   "execution_count": 100,
   "metadata": {},
   "outputs": [],
   "source": [
    "modelos = ['Modelo 0','Modelo 1', 'Modelo 2', 'Modelo 3', 'Modelo 7']\n",
    "rmses = [rmse_0, rmse_1, rmse_2, rmse_3, rmse_7] \n",
    "\n",
    "# Crear un DataFrame a partir de las listas\n",
    "tabla_rmse = pd.DataFrame({\n",
    "    'Nombre del Modelo': modelos,\n",
    "    'RMSE': rmses\n",
    "})"
   ]
  },
  {
   "cell_type": "code",
   "execution_count": 101,
   "metadata": {},
   "outputs": [
    {
     "data": {
      "text/html": [
       "<div>\n",
       "<style scoped>\n",
       "    .dataframe tbody tr th:only-of-type {\n",
       "        vertical-align: middle;\n",
       "    }\n",
       "\n",
       "    .dataframe tbody tr th {\n",
       "        vertical-align: top;\n",
       "    }\n",
       "\n",
       "    .dataframe thead th {\n",
       "        text-align: right;\n",
       "    }\n",
       "</style>\n",
       "<table border=\"1\" class=\"dataframe\">\n",
       "  <thead>\n",
       "    <tr style=\"text-align: right;\">\n",
       "      <th></th>\n",
       "      <th>Nombre del Modelo</th>\n",
       "      <th>RMSE</th>\n",
       "    </tr>\n",
       "  </thead>\n",
       "  <tbody>\n",
       "    <tr>\n",
       "      <th>0</th>\n",
       "      <td>Modelo 0</td>\n",
       "      <td>0.546178</td>\n",
       "    </tr>\n",
       "    <tr>\n",
       "      <th>4</th>\n",
       "      <td>Modelo 7</td>\n",
       "      <td>0.555257</td>\n",
       "    </tr>\n",
       "    <tr>\n",
       "      <th>1</th>\n",
       "      <td>Modelo 1</td>\n",
       "      <td>0.617017</td>\n",
       "    </tr>\n",
       "    <tr>\n",
       "      <th>2</th>\n",
       "      <td>Modelo 2</td>\n",
       "      <td>0.700284</td>\n",
       "    </tr>\n",
       "    <tr>\n",
       "      <th>3</th>\n",
       "      <td>Modelo 3</td>\n",
       "      <td>0.703800</td>\n",
       "    </tr>\n",
       "  </tbody>\n",
       "</table>\n",
       "</div>"
      ],
      "text/plain": [
       "  Nombre del Modelo      RMSE\n",
       "0          Modelo 0  0.546178\n",
       "4          Modelo 7  0.555257\n",
       "1          Modelo 1  0.617017\n",
       "2          Modelo 2  0.700284\n",
       "3          Modelo 3  0.703800"
      ]
     },
     "execution_count": 101,
     "metadata": {},
     "output_type": "execute_result"
    }
   ],
   "source": [
    "tabla_rmse.sort_values(by='RMSE', ascending=True)"
   ]
  },
  {
   "cell_type": "markdown",
   "metadata": {},
   "source": [
    "Con estos resultados se utilizan el modelo 0 y el 7 para el siguiente punto de LOOCV"
   ]
  },
  {
   "cell_type": "code",
   "execution_count": 110,
   "metadata": {},
   "outputs": [
    {
     "name": "stdout",
     "output_type": "stream",
     "text": [
      "                            OLS Regression Results                            \n",
      "==============================================================================\n",
      "Dep. Variable:            Log_salario   R-squared:                       0.561\n",
      "Model:                            OLS   Adj. R-squared:                  0.560\n",
      "Method:                 Least Squares   F-statistic:                     673.0\n",
      "Date:                Sun, 15 Sep 2024   Prob (F-statistic):               0.00\n",
      "Time:                        13:26:48   Log-Likelihood:                -7012.8\n",
      "No. Observations:                8978   AIC:                         1.406e+04\n",
      "Df Residuals:                    8960   BIC:                         1.419e+04\n",
      "Df Model:                          17                                         \n",
      "Covariance Type:            nonrobust                                         \n",
      "====================================================================================\n",
      "                       coef    std err          t      P>|t|      [0.025      0.975]\n",
      "------------------------------------------------------------------------------------\n",
      "const                8.1305      0.063    129.532      0.000       8.007       8.254\n",
      "age                  0.0015      0.001      2.685      0.007       0.000       0.003\n",
      "sex                  0.1581      0.011     13.811      0.000       0.136       0.181\n",
      "p6426                0.0007   7.51e-05      9.067      0.000       0.001       0.001\n",
      "p6870                0.0455      0.004     11.474      0.000       0.038       0.053\n",
      "p7070             2.346e-07   2.18e-08     10.736      0.000    1.92e-07    2.77e-07\n",
      "maxEducLevel         0.0568      0.008      7.545      0.000       0.042       0.072\n",
      "totalHoursWorked    -0.0137      0.000    -29.502      0.000      -0.015      -0.013\n",
      "formal               0.2490      0.017     14.926      0.000       0.216       0.282\n",
      "cuentaPropia         0.0389      0.016      2.423      0.015       0.007       0.070\n",
      "microEmpresa        -0.0435      0.026     -1.693      0.090      -0.094       0.007\n",
      "estrato1_3           0.1470      0.013     11.507      0.000       0.122       0.172\n",
      "estrato1_4           0.6715      0.025     27.119      0.000       0.623       0.720\n",
      "estrato1_5           0.9865      0.042     23.232      0.000       0.903       1.070\n",
      "estrato1_6           1.3839      0.039     35.473      0.000       1.307       1.460\n",
      "p6210_6              0.2516      0.018     14.293      0.000       0.217       0.286\n",
      "relab_2              0.3470      0.030     11.603      0.000       0.288       0.406\n",
      "relab_5              0.4349      0.033     13.069      0.000       0.370       0.500\n",
      "==============================================================================\n",
      "Omnibus:                      759.592   Durbin-Watson:                   2.001\n",
      "Prob(Omnibus):                  0.000   Jarque-Bera (JB):             4717.765\n",
      "Skew:                          -0.103   Prob(JB):                         0.00\n",
      "Kurtosis:                       6.545   Cond. No.                     2.99e+06\n",
      "==============================================================================\n",
      "\n",
      "Notes:\n",
      "[1] Standard Errors assume that the covariance matrix of the errors is correctly specified.\n",
      "[2] The condition number is large, 2.99e+06. This might indicate that there are\n",
      "strong multicollinearity or other numerical problems.\n"
     ]
    }
   ],
   "source": [
    "print(modelo_0.summary())"
   ]
  },
  {
   "cell_type": "code",
   "execution_count": 111,
   "metadata": {},
   "outputs": [
    {
     "name": "stdout",
     "output_type": "stream",
     "text": [
      "                            OLS Regression Results                            \n",
      "==============================================================================\n",
      "Dep. Variable:            Log_salario   R-squared:                       0.421\n",
      "Model:                            OLS   Adj. R-squared:                  0.421\n",
      "Method:                 Least Squares   F-statistic:                     933.3\n",
      "Date:                Sun, 15 Sep 2024   Prob (F-statistic):               0.00\n",
      "Time:                        13:27:02   Log-Likelihood:                -8250.2\n",
      "No. Observations:                8978   AIC:                         1.652e+04\n",
      "Df Residuals:                    8970   BIC:                         1.657e+04\n",
      "Df Model:                           7                                         \n",
      "Covariance Type:            nonrobust                                         \n",
      "======================================================================================\n",
      "                         coef    std err          t      P>|t|      [0.025      0.975]\n",
      "--------------------------------------------------------------------------------------\n",
      "const                  8.0285      0.089     90.155      0.000       7.854       8.203\n",
      "age                    0.0568      0.003     18.761      0.000       0.051       0.063\n",
      "totalHoursWorked      -0.0327      0.002    -13.862      0.000      -0.037      -0.028\n",
      "sex                    0.1856      0.013     14.217      0.000       0.160       0.211\n",
      "p6210_6                0.6192      0.014     44.140      0.000       0.592       0.647\n",
      "formal                 0.4892      0.014     33.788      0.000       0.461       0.518\n",
      "age^2                 -0.0006    3.6e-05    -16.989      0.000      -0.001      -0.001\n",
      "totalHoursWorked^2     0.0002      2e-05      7.689      0.000       0.000       0.000\n",
      "==============================================================================\n",
      "Omnibus:                      890.011   Durbin-Watson:                   1.997\n",
      "Prob(Omnibus):                  0.000   Jarque-Bera (JB):             3905.331\n",
      "Skew:                           0.404   Prob(JB):                         0.00\n",
      "Kurtosis:                       6.128   Cond. No.                     4.79e+04\n",
      "==============================================================================\n",
      "\n",
      "Notes:\n",
      "[1] Standard Errors assume that the covariance matrix of the errors is correctly specified.\n",
      "[2] The condition number is large, 4.79e+04. This might indicate that there are\n",
      "strong multicollinearity or other numerical problems.\n"
     ]
    }
   ],
   "source": [
    "print(modelo_1.summary())"
   ]
  },
  {
   "cell_type": "code",
   "execution_count": 112,
   "metadata": {},
   "outputs": [
    {
     "name": "stdout",
     "output_type": "stream",
     "text": [
      "                            OLS Regression Results                            \n",
      "==============================================================================\n",
      "Dep. Variable:            Log_salario   R-squared:                       0.231\n",
      "Model:                            OLS   Adj. R-squared:                  0.231\n",
      "Method:                 Least Squares   F-statistic:                     450.1\n",
      "Date:                Sun, 15 Sep 2024   Prob (F-statistic):               0.00\n",
      "Time:                        13:27:12   Log-Likelihood:                -9525.1\n",
      "No. Observations:                8978   AIC:                         1.906e+04\n",
      "Df Residuals:                    8971   BIC:                         1.911e+04\n",
      "Df Model:                           6                                         \n",
      "Covariance Type:            nonrobust                                         \n",
      "==============================================================================\n",
      "                 coef    std err          t      P>|t|      [0.025      0.975]\n",
      "------------------------------------------------------------------------------\n",
      "const          7.2991      0.070    103.536      0.000       7.161       7.437\n",
      "age            0.0414      0.004     11.449      0.000       0.034       0.049\n",
      "p6426          0.0023      0.000     10.537      0.000       0.002       0.003\n",
      "sex            0.0700      0.015      4.705      0.000       0.041       0.099\n",
      "formal         0.7126      0.016     45.501      0.000       0.682       0.743\n",
      "age^2         -0.0005    4.3e-05    -12.038      0.000      -0.001      -0.000\n",
      "p6426^2    -2.666e-06   5.81e-07     -4.587      0.000   -3.81e-06   -1.53e-06\n",
      "==============================================================================\n",
      "Omnibus:                     1382.875   Durbin-Watson:                   1.996\n",
      "Prob(Omnibus):                  0.000   Jarque-Bera (JB):             3855.886\n",
      "Skew:                           0.831   Prob(JB):                         0.00\n",
      "Kurtosis:                       5.747   Cond. No.                     3.27e+05\n",
      "==============================================================================\n",
      "\n",
      "Notes:\n",
      "[1] Standard Errors assume that the covariance matrix of the errors is correctly specified.\n",
      "[2] The condition number is large, 3.27e+05. This might indicate that there are\n",
      "strong multicollinearity or other numerical problems.\n"
     ]
    }
   ],
   "source": [
    "print(modelo_3.summary())"
   ]
  },
  {
   "cell_type": "code",
   "execution_count": 113,
   "metadata": {},
   "outputs": [
    {
     "name": "stdout",
     "output_type": "stream",
     "text": [
      "                            OLS Regression Results                            \n",
      "==============================================================================\n",
      "Dep. Variable:            Log_salario   R-squared:                       0.540\n",
      "Model:                            OLS   Adj. R-squared:                  0.539\n",
      "Method:                 Least Squares   F-statistic:                     658.3\n",
      "Date:                Sun, 15 Sep 2024   Prob (F-statistic):               0.00\n",
      "Time:                        13:27:44   Log-Likelihood:                -7217.6\n",
      "No. Observations:                8978   AIC:                         1.447e+04\n",
      "Df Residuals:                    8961   BIC:                         1.459e+04\n",
      "Df Model:                          16                                         \n",
      "Covariance Type:            nonrobust                                         \n",
      "==============================================================================================\n",
      "                                 coef    std err          t      P>|t|      [0.025      0.975]\n",
      "----------------------------------------------------------------------------------------------\n",
      "const                          8.2329      0.087     94.556      0.000       8.062       8.404\n",
      "age                            0.0420      0.003     12.618      0.000       0.035       0.048\n",
      "totalHoursWorked              -0.0236      0.002    -11.150      0.000      -0.028      -0.019\n",
      "formal                         0.2959      0.038      7.765      0.000       0.221       0.371\n",
      "estrato1_3                     0.1495      0.026      5.823      0.000       0.099       0.200\n",
      "estrato1_4                     0.6704      0.025     26.447      0.000       0.621       0.720\n",
      "estrato1_5                     0.9327      0.044     21.419      0.000       0.847       1.018\n",
      "estrato1_6                     1.3716      0.040     34.459      0.000       1.294       1.450\n",
      "p6210_6                        0.3662      0.014     26.635      0.000       0.339       0.393\n",
      "relab_2                        0.3999      0.030     13.226      0.000       0.341       0.459\n",
      "relab_5                        0.3791      0.033     11.656      0.000       0.315       0.443\n",
      "p6426                          0.0010      0.000      5.105      0.000       0.001       0.001\n",
      "age^2                         -0.0006   4.05e-05    -13.604      0.000      -0.001      -0.000\n",
      "totalHoursWorked^2          8.513e-05   1.82e-05      4.683      0.000    4.95e-05       0.000\n",
      "age_formal                     0.0039      0.001      4.194      0.000       0.002       0.006\n",
      "totalHoursWorked2_estrato3  1.472e-06   8.14e-06      0.181      0.857   -1.45e-05    1.74e-05\n",
      "p6426_age2                 -6.146e-08   6.19e-08     -0.992      0.321   -1.83e-07    5.99e-08\n",
      "==============================================================================\n",
      "Omnibus:                      768.423   Durbin-Watson:                   1.988\n",
      "Prob(Omnibus):                  0.000   Jarque-Bera (JB):             4680.881\n",
      "Skew:                          -0.138   Prob(JB):                         0.00\n",
      "Kurtosis:                       6.527   Cond. No.                     5.25e+06\n",
      "==============================================================================\n",
      "\n",
      "Notes:\n",
      "[1] Standard Errors assume that the covariance matrix of the errors is correctly specified.\n",
      "[2] The condition number is large, 5.25e+06. This might indicate that there are\n",
      "strong multicollinearity or other numerical problems.\n"
     ]
    }
   ],
   "source": [
    "print(modelo_7.summary())"
   ]
  }
 ],
 "metadata": {
  "kernelspec": {
   "display_name": "base",
   "language": "python",
   "name": "python3"
  },
  "language_info": {
   "codemirror_mode": {
    "name": "ipython",
    "version": 3
   },
   "file_extension": ".py",
   "mimetype": "text/x-python",
   "name": "python",
   "nbconvert_exporter": "python",
   "pygments_lexer": "ipython3",
   "version": "3.9.12"
  }
 },
 "nbformat": 4,
 "nbformat_minor": 2
}
