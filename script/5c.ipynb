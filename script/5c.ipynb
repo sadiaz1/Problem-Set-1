{
  "nbformat": 4,
  "nbformat_minor": 0,
  "metadata": {
    "colab": {
      "provenance": []
    },
    "kernelspec": {
      "name": "python3",
      "display_name": "Python 3"
    },
    "language_info": {
      "name": "python"
    }
  },
  "cells": [
    {
      "cell_type": "code",
      "source": [
        "import pandas as pd\n",
        "import numpy as np\n",
        "from sklearn.linear_model import LinearRegression\n",
        "from sklearn.metrics import mean_squared_error\n",
        "import statsmodels.api as sm\n",
        "from sklearn.model_selection import train_test_split\n",
        "from sklearn.linear_model import LassoCV\n",
        "from sklearn.preprocessing import StandardScaler\n",
        "\n",
        "# Load the dataset you uploaded\n",
        "base = pd.read_csv('/content/GEIH2018_filtered_data.csv')\n",
        "\n",
        "# Display the first few rows to verify the data is loaded correctly\n",
        "print(base.head())\n"
      ],
      "metadata": {
        "colab": {
          "base_uri": "https://localhost:8080/"
        },
        "collapsed": true,
        "id": "f6uOD1OaeYIp",
        "outputId": "c1ee0609-5608-491c-850e-80b9cab6b209"
      },
      "execution_count": 16,
      "outputs": [
        {
          "output_type": "stream",
          "name": "stdout",
          "text": [
            "   directorio  secuencia_p  orden  clase dominio  age  sex  estrato1  p6210  \\\n",
            "0     4514331            1      1      1  BOGOTA   36    1         2      5   \n",
            "1     4514333            1      1      1  BOGOTA   51    1         2      6   \n",
            "2     4514334            1      1      1  BOGOTA   45    1         2      3   \n",
            "3     4514335            1      1      1  BOGOTA   61    1         2      3   \n",
            "4     4514339            1      1      1  BOGOTA   35    0         2      5   \n",
            "\n",
            "   p6240  ...  maxEducLevel  totalHoursWorked  formal  informal  cuentaPropia  \\\n",
            "0      1  ...           6.0                45       1         0             0   \n",
            "1      1  ...           7.0                48       1         0             0   \n",
            "2      1  ...           4.0                56       1         0             0   \n",
            "3      1  ...           3.0                40       0         1             0   \n",
            "4      1  ...           6.0                40       1         0             0   \n",
            "\n",
            "   microEmpresa  sizeFirm    y_total_m  college  depto  \n",
            "0             0         5  1620833.250        1     11  \n",
            "1             0         3  1378973.375        0     11  \n",
            "2             1         2   883357.000        0     11  \n",
            "3             0         4   700000.000        0     11  \n",
            "4             0         5  1083000.000        1     11  \n",
            "\n",
            "[5 rows x 28 columns]\n"
          ]
        }
      ]
    },
    {
      "cell_type": "code",
      "source": [
        "# Create the 'Log_salario' variable\n",
        "base['Log_salario'] = np.log(base['y_total_m_ha'])\n",
        "\n",
        "# Drop variables with high collinearity\n",
        "base_reducida = base.drop(columns=['y_total_m_ha', 'y_total_m', 'Log_salario', 'dominio','orden','secuencia_p','directorio','clase','p6240','p7040','depto','mes'])\n",
        "\n",
        "# Define categorical variables for dummy creation\n",
        "categorical_vars = ['estrato1', 'p6210', 'relab', 'sizeFirm']\n",
        "\n",
        "# Create dummies for categorical variables, dropping the first level\n",
        "base_dummies = pd.get_dummies(base_reducida, columns=categorical_vars, drop_first=True)\n"
      ],
      "metadata": {
        "id": "0pdaozt5eje_"
      },
      "execution_count": 18,
      "outputs": []
    },
    {
      "cell_type": "code",
      "source": [
        "# Define numerical variables\n",
        "numericas = ['age', 'p6426', 'p6870', 'p7070', 'maxEducLevel', 'totalHoursWorked']\n",
        "\n",
        "# Create squared versions of numerical variables\n",
        "for i in numericas:\n",
        "    base_dummies[f'{i}^2'] = base_reducida[i] ** 2\n",
        "\n",
        "# Add the 'Log_salario' back into the dummy dataframe\n",
        "base_dummies['Log_salario'] = base['Log_salario']\n"
      ],
      "metadata": {
        "id": "dZ5X-ssQeqWN"
      },
      "execution_count": 19,
      "outputs": []
    },
    {
      "cell_type": "code",
      "source": [
        "# Define dependent and independent variables\n",
        "X = base_dummies.drop(columns=['Log_salario'])\n",
        "y = base_dummies['Log_salario']\n",
        "\n",
        "# Split the data into training and testing sets\n",
        "seed = 202013547\n",
        "X_train, X_test, y_train, y_test = train_test_split(X, y, test_size=0.3, random_state=seed)\n",
        "\n",
        "# Convert all boolean columns to integers\n",
        "X_train = X_train.apply(lambda x: x.astype(int) if x.dtype == 'bool' else x)\n",
        "X_test = X_test.apply(lambda x: x.astype(int) if x.dtype == 'bool' else x)\n"
      ],
      "metadata": {
        "id": "YWpfO9fOes7V"
      },
      "execution_count": 20,
      "outputs": []
    },
    {
      "cell_type": "code",
      "source": [
        "# Step 5: Correct Missing or Infinite Values in X_train and y_train\n",
        "# Replace inf values with NaN to handle them the same way\n",
        "X_train.replace([np.inf, -np.inf], np.nan, inplace=True)\n",
        "y_train.replace([np.inf, -np.inf], np.nan, inplace=True)\n",
        "\n",
        "# Drop rows with NaN values in either X_train or y_train\n",
        "X_train_cleaned = X_train.dropna()\n",
        "y_train_cleaned = y_train[X_train_cleaned.index]\n",
        "\n",
        "# Backward elimination function\n",
        "def backward_elimination(X, y, significance_level=0.05):\n",
        "    features = list(X.columns)\n",
        "    while len(features) > 0:\n",
        "        X_with_const = sm.add_constant(X[features])\n",
        "        model = sm.OLS(y, X_with_const).fit()\n",
        "        pvalues = model.pvalues.iloc[1:]  # Exclude constant\n",
        "        max_pval = pvalues.max()\n",
        "        if max_pval > significance_level:\n",
        "            excluded_feature = pvalues.idxmax()\n",
        "            features.remove(excluded_feature)\n",
        "        else:\n",
        "            break\n",
        "    return features\n",
        "\n",
        "# Apply Backward Elimination after cleaning the dataset\n",
        "selected_features_backward = backward_elimination(X_train_cleaned, y_train_cleaned)\n",
        "print(\"Selected features by Backward Elimination:\", selected_features_backward)\n"
      ],
      "metadata": {
        "colab": {
          "base_uri": "https://localhost:8080/"
        },
        "id": "B36QQQfie-XW",
        "outputId": "3685fbf6-f2ba-4e2d-a8f4-414112ec2127"
      },
      "execution_count": 22,
      "outputs": [
        {
          "output_type": "stream",
          "name": "stdout",
          "text": [
            "Selected features by Backward Elimination: ['age', 'sex', 'p6426', 'p6870', 'p7070', 'maxEducLevel', 'totalHoursWorked', 'formal', 'informal', 'cuentaPropia', 'microEmpresa', 'estrato1_3', 'estrato1_4', 'estrato1_5', 'estrato1_6', 'p6210_3', 'p6210_4', 'p6210_6', 'relab_2', 'relab_4', 'relab_5', 'sizeFirm_3', 'sizeFirm_4', 'sizeFirm_5', 'age^2', 'p6426^2', 'p6870^2', 'p7070^2', 'maxEducLevel^2', 'totalHoursWorked^2']\n"
          ]
        }
      ]
    },
    {
      "cell_type": "code",
      "source": [
        "# Step 6: Fit final model with selected features from backward elimination\n",
        "\n",
        "# Select the features that survived backward elimination in the cleaned dataset\n",
        "X_train_selected = X_train_cleaned[selected_features_backward]\n",
        "\n",
        "# Add a constant to the selected features\n",
        "X_train_selected_const = sm.add_constant(X_train_selected)\n",
        "\n",
        "# Fit the final OLS model using the selected features\n",
        "final_model = sm.OLS(y_train_cleaned, X_train_selected_const).fit()\n",
        "\n",
        "# Print the model summary\n",
        "print(final_model.summary())\n"
      ],
      "metadata": {
        "collapsed": true,
        "colab": {
          "base_uri": "https://localhost:8080/"
        },
        "id": "Q-tJtEjLfJuI",
        "outputId": "328fd6b4-bc64-437b-ed11-0d56c29b7dda"
      },
      "execution_count": 24,
      "outputs": [
        {
          "output_type": "stream",
          "name": "stdout",
          "text": [
            "                            OLS Regression Results                            \n",
            "==============================================================================\n",
            "Dep. Variable:            Log_salario   R-squared:                       0.584\n",
            "Model:                            OLS   Adj. R-squared:                  0.583\n",
            "Method:                 Least Squares   F-statistic:                     482.8\n",
            "Date:                Mon, 16 Sep 2024   Prob (F-statistic):               0.00\n",
            "Time:                        01:40:05   Log-Likelihood:                -6753.0\n",
            "No. Observations:                8963   AIC:                         1.356e+04\n",
            "Df Residuals:                    8936   BIC:                         1.375e+04\n",
            "Df Model:                          26                                         \n",
            "Covariance Type:            nonrobust                                         \n",
            "======================================================================================\n",
            "                         coef    std err          t      P>|t|      [0.025      0.975]\n",
            "--------------------------------------------------------------------------------------\n",
            "const                  3.7531      0.063     59.661      0.000       3.630       3.876\n",
            "age                    0.0478      0.003     17.779      0.000       0.043       0.053\n",
            "sex                    0.1643      0.011     14.675      0.000       0.142       0.186\n",
            "p6426                  0.0016      0.000      9.660      0.000       0.001       0.002\n",
            "p6870                  0.1475      0.020      7.503      0.000       0.109       0.186\n",
            "p7070               3.599e-07    4.1e-08      8.779      0.000     2.8e-07     4.4e-07\n",
            "maxEducLevel           1.1316      0.019     58.744      0.000       1.094       1.169\n",
            "totalHoursWorked      -0.0294      0.002    -14.416      0.000      -0.033      -0.025\n",
            "formal                 1.9864      0.033     60.094      0.000       1.922       2.051\n",
            "informal               1.7670      0.032     55.266      0.000       1.704       1.830\n",
            "cuentaPropia           0.0268      0.009      3.061      0.002       0.010       0.044\n",
            "microEmpresa           1.0155      0.034     30.082      0.000       0.949       1.082\n",
            "estrato1_3             0.1440      0.012     11.561      0.000       0.120       0.168\n",
            "estrato1_4             0.6575      0.024     27.183      0.000       0.610       0.705\n",
            "estrato1_5             0.9828      0.041     23.759      0.000       0.902       1.064\n",
            "estrato1_6             1.3816      0.038     36.359      0.000       1.307       1.456\n",
            "p6210_3               -0.8625      0.036    -24.011      0.000      -0.933      -0.792\n",
            "p6210_4               -0.5759      0.023    -25.200      0.000      -0.621      -0.531\n",
            "p6210_6                1.1614      0.024     49.002      0.000       1.115       1.208\n",
            "relab_2                0.3043      0.029     10.326      0.000       0.247       0.362\n",
            "relab_4                0.0268      0.009      3.061      0.002       0.010       0.044\n",
            "relab_5                0.3810      0.033     11.633      0.000       0.317       0.445\n",
            "sizeFirm_3             0.9451      0.030     32.030      0.000       0.887       1.003\n",
            "sizeFirm_4             0.9078      0.026     34.826      0.000       0.857       0.959\n",
            "sizeFirm_5             0.8851      0.056     15.843      0.000       0.776       0.995\n",
            "age^2                 -0.0006   3.19e-05    -17.821      0.000      -0.001      -0.001\n",
            "p6426^2            -2.121e-06    4.3e-07     -4.933      0.000   -2.96e-06   -1.28e-06\n",
            "p6870^2               -0.0072      0.002     -3.489      0.000      -0.011      -0.003\n",
            "p7070^2            -2.303e-14   6.05e-15     -3.805      0.000   -3.49e-14   -1.12e-14\n",
            "maxEducLevel^2        -0.1525      0.002    -65.802      0.000      -0.157      -0.148\n",
            "totalHoursWorked^2     0.0001   1.73e-05      7.433      0.000    9.44e-05       0.000\n",
            "==============================================================================\n",
            "Omnibus:                      725.901   Durbin-Watson:                   1.991\n",
            "Prob(Omnibus):                  0.000   Jarque-Bera (JB):             4382.548\n",
            "Skew:                          -0.066   Prob(JB):                         0.00\n",
            "Kurtosis:                       6.423   Cond. No.                     1.00e+16\n",
            "==============================================================================\n",
            "\n",
            "Notes:\n",
            "[1] Standard Errors assume that the covariance matrix of the errors is correctly specified.\n",
            "[2] The condition number is large,  1e+16. This might indicate that there are\n",
            "strong multicollinearity or other numerical problems.\n"
          ]
        }
      ]
    },
    {
      "cell_type": "code",
      "source": [
        "# Step 7: Evaluate model performance on test set\n",
        "\n",
        "# Apply the same cleaning process to the test set\n",
        "X_test.replace([np.inf, -np.inf], np.nan, inplace=True)\n",
        "X_test_cleaned = X_test.dropna()\n",
        "\n",
        "# Make sure the test set has the same features as the training set\n",
        "X_test_selected = X_test_cleaned[selected_features_backward]\n",
        "\n",
        "# Add a constant to the test set\n",
        "X_test_selected_const = sm.add_constant(X_test_selected)\n",
        "\n",
        "# Make predictions on the test set\n",
        "y_pred = final_model.predict(X_test_selected_const)\n",
        "\n",
        "# Ensure y_test has no missing values corresponding to the cleaned test set\n",
        "y_test_cleaned = y_test[X_test_cleaned.index]\n",
        "\n",
        "# Calculate RMSE\n",
        "rmse = np.sqrt(mean_squared_error(y_test_cleaned, y_pred))\n",
        "\n",
        "# Print the RMSE\n",
        "print(f\"RMSE on the test set: {rmse:.4f}\")\n"
      ],
      "metadata": {
        "colab": {
          "base_uri": "https://localhost:8080/"
        },
        "id": "h61qGEH9fO8B",
        "outputId": "6448ade7-deb2-4391-e685-d4bff66b9f21"
      },
      "execution_count": 25,
      "outputs": [
        {
          "output_type": "stream",
          "name": "stdout",
          "text": [
            "RMSE on the test set: 0.5352\n"
          ]
        }
      ]
    },
    {
      "cell_type": "code",
      "source": [
        "import matplotlib.pyplot as plt\n",
        "\n",
        "# Step 8: Compute prediction errors (residuals)\n",
        "errors = y_test_cleaned - y_pred\n",
        "\n",
        "# Analyze the distribution of the errors\n",
        "plt.figure(figsize=(10, 6))\n",
        "plt.hist(errors, bins=50, edgecolor='black')\n",
        "plt.title(\"Distribution of Prediction Errors\")\n",
        "plt.xlabel(\"Prediction Error (Residual)\")\n",
        "plt.ylabel(\"Frequency\")\n",
        "plt.show()\n",
        "\n",
        "# Check for outliers: examine the tails of the error distribution\n",
        "error_quantiles = np.percentile(errors, [1, 5, 95, 99])\n",
        "print(\"1st and 99th percentile of errors:\", error_quantiles[0], error_quantiles[3])\n",
        "print(\"5th and 95th percentile of errors:\", error_quantiles[1], error_quantiles[2])\n",
        "\n",
        "# Identify potential outliers in the tails (top/bottom 1% of errors)\n",
        "outliers_high = errors[errors > error_quantiles[3]]\n",
        "outliers_low = errors[errors < error_quantiles[0]]\n",
        "\n",
        "print(f\"Number of high outliers (> 99th percentile): {len(outliers_high)}\")\n",
        "print(f\"Number of low outliers (< 1st percentile): {len(outliers_low)}\")\n",
        "\n",
        "# Show some examples of the largest errors (optional)\n",
        "print(\"Examples of high outliers (positive errors):\")\n",
        "print(outliers_high.head())\n",
        "print(\"Examples of low outliers (negative errors):\")\n",
        "print(outliers_low.head())\n"
      ],
      "metadata": {
        "colab": {
          "base_uri": "https://localhost:8080/",
          "height": 885
        },
        "id": "POIGiZsGfwLF",
        "outputId": "4353a170-a44b-467b-a7a8-2e2c725ba5a3"
      },
      "execution_count": 26,
      "outputs": [
        {
          "output_type": "display_data",
          "data": {
            "text/plain": [
              "<Figure size 1000x600 with 1 Axes>"
            ],
            "image/png": "[encoded data removed]"
          },
          "metadata": {}
        },
        {
          "output_type": "stream",
          "name": "stdout",
          "text": [
            "1st and 99th percentile of errors: -1.4415164596297991 1.3686947867808017\n",
            "5th and 95th percentile of errors: -0.7681723231253027 0.871227433262387\n",
            "Number of high outliers (> 99th percentile): 39\n",
            "Number of low outliers (< 1st percentile): 39\n",
            "Examples of high outliers (positive errors):\n",
            "2871     1.912892\n",
            "11876    1.978198\n",
            "9830     1.449093\n",
            "9179     2.282975\n",
            "831      1.383450\n",
            "dtype: float64\n",
            "Examples of low outliers (negative errors):\n",
            "1982    -1.516573\n",
            "6757    -1.627233\n",
            "1332    -3.043016\n",
            "2004    -1.560355\n",
            "12288   -2.344285\n",
            "dtype: float64\n"
          ]
        }
      ]
    }
  ]
}