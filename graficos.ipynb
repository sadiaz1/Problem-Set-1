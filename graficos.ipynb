{
 "cells": [
  {
   "cell_type": "code",
   "execution_count": null,
   "metadata": {},
   "outputs": [],
   "source": [
    "# Graficar el perfil edad-salario\n",
    "age_range = np.linspace(base['age'].min(), base['age'].max(), 100)\n",
    "salario_estimado = betas['const'] + betas['age'] * age_range + betas['edad^2'] * age_range**2\n",
    "\n",
    "plt.plot(age_range, salario_estimado, label='Perfil Edad-Salario')\n",
    "plt.axvline(x=peak_age, color='red', linestyle='--', label=f'Edad Pico: {peak_age:.2f}')\n",
    "plt.fill_betweenx(salario_estimado, ci_lower, ci_upper, color='gray', alpha=0.3, label=f'IC 95% [{ci_lower:.2f}, {ci_upper:.2f}]')\n",
    "plt.xlabel('Edad')\n",
    "plt.ylabel('Logaritmo del Salario')\n",
    "plt.title('Perfil Edad-Salario')\n",
    "plt.legend()\n",
    "plt.show()"
   ]
  },
  {
   "cell_type": "code",
   "execution_count": null,
   "metadata": {},
   "outputs": [],
   "source": [
    "\n",
    "\n",
    "# Graficar la distribución \n",
    "plt.figure(figsize=(10, 6))\n",
    "\n",
    "\n",
    "sns.histplot(bootstrap_peak_ages, kde=True, color='blue', bins=30)\n",
    "\n",
    "# Añadir el intervalo de confianza\n",
    "plt.axvline(x=ci_lower, color='red', linestyle='--', label=f'IC 95% Inferior: {ci_lower:.2f}')\n",
    "plt.axvline(x=ci_upper, color='red', linestyle='--', label=f'IC 95% Superior: {ci_upper:.2f}')\n",
    "plt.axvline(x=peak_age, color='green', linestyle='-', label=f'Edad Pico Media: {peak_age:.2f}')\n",
    "\n",
    "\n",
    "plt.title('Distribución de las \"peak_age\" ', fontsize=14)\n",
    "plt.xlabel('Edad Pico', fontsize=12)\n",
    "plt.ylabel('Frecuencia', fontsize=12)\n",
    "plt.legend()\n",
    "\n",
    "\n",
    "plt.show()\n"
   ]
  }
 ],
 "metadata": {
  "language_info": {
   "name": "python"
  }
 },
 "nbformat": 4,
 "nbformat_minor": 2
}
