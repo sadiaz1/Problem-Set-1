{
 "cells": [
  {
   "cell_type": "code",
   "execution_count": 8,
   "metadata": {},
   "outputs": [],
   "source": [
    "url = \"https://ignaciomsarmiento.github.io/GEIH2018_sample/index.html\""
   ]
  },
  {
   "cell_type": "code",
   "execution_count": 9,
   "metadata": {},
   "outputs": [],
   "source": [
    "from selenium import webdriver\n",
    "from selenium.webdriver.chrome.service import Service\n",
    "from selenium.webdriver.common.by import By\n",
    "from selenium.webdriver.common.keys import Keys\n",
    "from bs4 import BeautifulSoup\n",
    "import requests\n",
    "from lxml import html\n",
    "from lxml import etree\n",
    "import pandas as pd\n",
    "import time\n",
    "from selenium.webdriver.support.ui import WebDriverWait\n",
    "from selenium import webdriver\n",
    "from selenium.webdriver.common.by import By\n",
    "from selenium.webdriver.common.keys import Keys\n",
    "from selenium.webdriver.support.ui import WebDriverWait\n",
    "from selenium.webdriver.support import expected_conditions as EC\n",
    "import time\n"
   ]
  },
  {
   "cell_type": "code",
   "execution_count": 10,
   "metadata": {},
   "outputs": [],
   "source": [
    "service = Service(executable_path='C:\\\\Users\\\\USUARIO\\\\Desktop\\\\pyton\\\\chromedriver-win64\\\\chromedriver.exe')# Especifica la ruta al ejecutable de Chromedriver\n",
    "driver = webdriver.Chrome(service=service)\n",
    "driver.get(url)"
   ]
  },
  {
   "cell_type": "code",
   "execution_count": 21,
   "metadata": {},
   "outputs": [
    {
     "name": "stdout",
     "output_type": "stream",
     "text": [
      "Procesando el chunk 1...\n"
     ]
    },
    {
     "name": "stderr",
     "output_type": "stream",
     "text": [
      "C:\\Users\\USUARIO\\AppData\\Local\\Temp/ipykernel_14432/1806078533.py:32: FutureWarning: Passing literal html to 'read_html' is deprecated and will be removed in a future version. To read from a literal string, wrap it in a 'StringIO' object.\n",
      "  df = pd.read_html(table_html)[0]\n"
     ]
    },
    {
     "name": "stdout",
     "output_type": "stream",
     "text": [
      "Tabla extraída en el intento 1.\n",
      "Procesando el chunk 2...\n"
     ]
    },
    {
     "name": "stderr",
     "output_type": "stream",
     "text": [
      "C:\\Users\\USUARIO\\AppData\\Local\\Temp/ipykernel_14432/1806078533.py:32: FutureWarning: Passing literal html to 'read_html' is deprecated and will be removed in a future version. To read from a literal string, wrap it in a 'StringIO' object.\n",
      "  df = pd.read_html(table_html)[0]\n"
     ]
    },
    {
     "name": "stdout",
     "output_type": "stream",
     "text": [
      "Tabla extraída en el intento 1.\n",
      "Procesando el chunk 3...\n"
     ]
    },
    {
     "name": "stderr",
     "output_type": "stream",
     "text": [
      "C:\\Users\\USUARIO\\AppData\\Local\\Temp/ipykernel_14432/1806078533.py:32: FutureWarning: Passing literal html to 'read_html' is deprecated and will be removed in a future version. To read from a literal string, wrap it in a 'StringIO' object.\n",
      "  df = pd.read_html(table_html)[0]\n"
     ]
    },
    {
     "name": "stdout",
     "output_type": "stream",
     "text": [
      "Tabla extraída en el intento 1.\n",
      "Procesando el chunk 4...\n",
      "Error en el intento 1 al procesar el chunk: Message: target frame detached: received Inspector.detached event\n",
      "  (Session info: chrome=127.0.6533.120)\n",
      "Stacktrace:\n",
      "\tGetHandleVerifier [0x00007FF652D99642+30946]\n",
      "\t(No symbol) [0x00007FF652D4E3D9]\n",
      "\t(No symbol) [0x00007FF652C46FDA]\n",
      "\t(No symbol) [0x00007FF652C31572]\n",
      "\t(No symbol) [0x00007FF652C30515]\n",
      "\t(No symbol) [0x00007FF652C2FD41]\n",
      "\t(No symbol) [0x00007FF652C2FC80]\n",
      "\t(No symbol) [0x00007FF652C2DE84]\n",
      "\t(No symbol) [0x00007FF652C2E46F]\n",
      "\t(No symbol) [0x00007FF652C3CC6E]\n",
      "\t(No symbol) [0x00007FF652C550FF]\n",
      "\t(No symbol) [0x00007FF652C5AB7A]\n",
      "\t(No symbol) [0x00007FF652C2EBBA]\n",
      "\t(No symbol) [0x00007FF652C54C71]\n",
      "\t(No symbol) [0x00007FF652CDAF1C]\n",
      "\t(No symbol) [0x00007FF652CBC813]\n",
      "\t(No symbol) [0x00007FF652C8A6E5]\n",
      "\t(No symbol) [0x00007FF652C8B021]\n",
      "\tGetHandleVerifier [0x00007FF652ECF84D+1301229]\n",
      "\tGetHandleVerifier [0x00007FF652EDBDC7+1351783]\n",
      "\tGetHandleVerifier [0x00007FF652ED2A13+1313971]\n",
      "\tGetHandleVerifier [0x00007FF652DCDD16+245686]\n",
      "\t(No symbol) [0x00007FF652D5759F]\n",
      "\t(No symbol) [0x00007FF652D53814]\n",
      "\t(No symbol) [0x00007FF652D539A2]\n",
      "\t(No symbol) [0x00007FF652D4A3FF]\n",
      "\tBaseThreadInitThunk [0x00007FFCEC507374+20]\n",
      "\tRtlUserThreadStart [0x00007FFCED8FCC91+33]\n",
      "\n"
     ]
    },
    {
     "name": "stderr",
     "output_type": "stream",
     "text": [
      "C:\\Users\\USUARIO\\AppData\\Local\\Temp/ipykernel_14432/1806078533.py:32: FutureWarning: Passing literal html to 'read_html' is deprecated and will be removed in a future version. To read from a literal string, wrap it in a 'StringIO' object.\n",
      "  df = pd.read_html(table_html)[0]\n"
     ]
    },
    {
     "name": "stdout",
     "output_type": "stream",
     "text": [
      "Tabla extraída en el intento 2.\n",
      "Procesando el chunk 5...\n"
     ]
    },
    {
     "name": "stderr",
     "output_type": "stream",
     "text": [
      "C:\\Users\\USUARIO\\AppData\\Local\\Temp/ipykernel_14432/1806078533.py:32: FutureWarning: Passing literal html to 'read_html' is deprecated and will be removed in a future version. To read from a literal string, wrap it in a 'StringIO' object.\n",
      "  df = pd.read_html(table_html)[0]\n"
     ]
    },
    {
     "name": "stdout",
     "output_type": "stream",
     "text": [
      "Tabla extraída en el intento 1.\n",
      "Procesando el chunk 6...\n"
     ]
    },
    {
     "name": "stderr",
     "output_type": "stream",
     "text": [
      "C:\\Users\\USUARIO\\AppData\\Local\\Temp/ipykernel_14432/1806078533.py:32: FutureWarning: Passing literal html to 'read_html' is deprecated and will be removed in a future version. To read from a literal string, wrap it in a 'StringIO' object.\n",
      "  df = pd.read_html(table_html)[0]\n"
     ]
    },
    {
     "name": "stdout",
     "output_type": "stream",
     "text": [
      "Tabla extraída en el intento 1.\n",
      "Procesando el chunk 7...\n",
      "Error en el intento 1 al procesar el chunk: Message: target frame detached: received Inspector.detached event\n",
      "  (Session info: chrome=127.0.6533.120)\n",
      "Stacktrace:\n",
      "\tGetHandleVerifier [0x00007FF652D99642+30946]\n",
      "\t(No symbol) [0x00007FF652D4E3D9]\n",
      "\t(No symbol) [0x00007FF652C46FDA]\n",
      "\t(No symbol) [0x00007FF652C31572]\n",
      "\t(No symbol) [0x00007FF652C30515]\n",
      "\t(No symbol) [0x00007FF652C2FD41]\n",
      "\t(No symbol) [0x00007FF652C2FC80]\n",
      "\t(No symbol) [0x00007FF652C2DE84]\n",
      "\t(No symbol) [0x00007FF652C2E46F]\n",
      "\t(No symbol) [0x00007FF652C3CC6E]\n",
      "\t(No symbol) [0x00007FF652C550FF]\n",
      "\t(No symbol) [0x00007FF652C5AB7A]\n",
      "\t(No symbol) [0x00007FF652C2EBBA]\n",
      "\t(No symbol) [0x00007FF652C54C71]\n",
      "\t(No symbol) [0x00007FF652CDAF1C]\n",
      "\t(No symbol) [0x00007FF652CBC813]\n",
      "\t(No symbol) [0x00007FF652C8A6E5]\n",
      "\t(No symbol) [0x00007FF652C8B021]\n",
      "\tGetHandleVerifier [0x00007FF652ECF84D+1301229]\n",
      "\tGetHandleVerifier [0x00007FF652EDBDC7+1351783]\n",
      "\tGetHandleVerifier [0x00007FF652ED2A13+1313971]\n",
      "\tGetHandleVerifier [0x00007FF652DCDD16+245686]\n",
      "\t(No symbol) [0x00007FF652D5759F]\n",
      "\t(No symbol) [0x00007FF652D53814]\n",
      "\t(No symbol) [0x00007FF652D539A2]\n",
      "\t(No symbol) [0x00007FF652D4A3FF]\n",
      "\tBaseThreadInitThunk [0x00007FFCEC507374+20]\n",
      "\tRtlUserThreadStart [0x00007FFCED8FCC91+33]\n",
      "\n"
     ]
    },
    {
     "name": "stderr",
     "output_type": "stream",
     "text": [
      "C:\\Users\\USUARIO\\AppData\\Local\\Temp/ipykernel_14432/1806078533.py:32: FutureWarning: Passing literal html to 'read_html' is deprecated and will be removed in a future version. To read from a literal string, wrap it in a 'StringIO' object.\n",
      "  df = pd.read_html(table_html)[0]\n"
     ]
    },
    {
     "name": "stdout",
     "output_type": "stream",
     "text": [
      "Tabla extraída en el intento 2.\n",
      "Procesando el chunk 8...\n"
     ]
    },
    {
     "name": "stderr",
     "output_type": "stream",
     "text": [
      "C:\\Users\\USUARIO\\AppData\\Local\\Temp/ipykernel_14432/1806078533.py:32: FutureWarning: Passing literal html to 'read_html' is deprecated and will be removed in a future version. To read from a literal string, wrap it in a 'StringIO' object.\n",
      "  df = pd.read_html(table_html)[0]\n"
     ]
    },
    {
     "name": "stdout",
     "output_type": "stream",
     "text": [
      "Tabla extraída en el intento 1.\n",
      "Procesando el chunk 9...\n"
     ]
    },
    {
     "name": "stderr",
     "output_type": "stream",
     "text": [
      "C:\\Users\\USUARIO\\AppData\\Local\\Temp/ipykernel_14432/1806078533.py:32: FutureWarning: Passing literal html to 'read_html' is deprecated and will be removed in a future version. To read from a literal string, wrap it in a 'StringIO' object.\n",
      "  df = pd.read_html(table_html)[0]\n"
     ]
    },
    {
     "name": "stdout",
     "output_type": "stream",
     "text": [
      "Tabla extraída en el intento 1.\n",
      "Procesando el chunk 10...\n",
      "Error en el intento 1 al procesar el chunk: Message: target frame detached: received Inspector.detached event\n",
      "  (Session info: chrome=127.0.6533.120)\n",
      "Stacktrace:\n",
      "\tGetHandleVerifier [0x00007FF652D99642+30946]\n",
      "\t(No symbol) [0x00007FF652D4E3D9]\n",
      "\t(No symbol) [0x00007FF652C46FDA]\n",
      "\t(No symbol) [0x00007FF652C31572]\n",
      "\t(No symbol) [0x00007FF652C30515]\n",
      "\t(No symbol) [0x00007FF652C2FD41]\n",
      "\t(No symbol) [0x00007FF652C2FC80]\n",
      "\t(No symbol) [0x00007FF652C2DE84]\n",
      "\t(No symbol) [0x00007FF652C2E46F]\n",
      "\t(No symbol) [0x00007FF652C3CC6E]\n",
      "\t(No symbol) [0x00007FF652C550FF]\n",
      "\t(No symbol) [0x00007FF652C5AB7A]\n",
      "\t(No symbol) [0x00007FF652C2EBBA]\n",
      "\t(No symbol) [0x00007FF652C54C71]\n",
      "\t(No symbol) [0x00007FF652CDAF1C]\n",
      "\t(No symbol) [0x00007FF652CBC813]\n",
      "\t(No symbol) [0x00007FF652C8A6E5]\n",
      "\t(No symbol) [0x00007FF652C8B021]\n",
      "\tGetHandleVerifier [0x00007FF652ECF84D+1301229]\n",
      "\tGetHandleVerifier [0x00007FF652EDBDC7+1351783]\n",
      "\tGetHandleVerifier [0x00007FF652ED2A13+1313971]\n",
      "\tGetHandleVerifier [0x00007FF652DCDD16+245686]\n",
      "\t(No symbol) [0x00007FF652D5759F]\n",
      "\t(No symbol) [0x00007FF652D53814]\n",
      "\t(No symbol) [0x00007FF652D539A2]\n",
      "\t(No symbol) [0x00007FF652D4A3FF]\n",
      "\tBaseThreadInitThunk [0x00007FFCEC507374+20]\n",
      "\tRtlUserThreadStart [0x00007FFCED8FCC91+33]\n",
      "\n"
     ]
    },
    {
     "name": "stderr",
     "output_type": "stream",
     "text": [
      "C:\\Users\\USUARIO\\AppData\\Local\\Temp/ipykernel_14432/1806078533.py:32: FutureWarning: Passing literal html to 'read_html' is deprecated and will be removed in a future version. To read from a literal string, wrap it in a 'StringIO' object.\n",
      "  df = pd.read_html(table_html)[0]\n"
     ]
    },
    {
     "name": "stdout",
     "output_type": "stream",
     "text": [
      "Tabla extraída en el intento 2.\n",
      "¡Extracción completada! Los datos se han guardado en 'GEIH2018_sample_data.csv'.\n"
     ]
    }
   ],
   "source": [
    "from selenium import webdriver\n",
    "from selenium.webdriver.common.by import By\n",
    "from selenium.webdriver.support.ui import WebDriverWait\n",
    "from selenium.webdriver.support import expected_conditions as EC\n",
    "import pandas as pd\n",
    "import time\n",
    "\n",
    "driver = webdriver.Chrome()\n",
    "\n",
    "# URL de la página principal\n",
    "base_url = \"https://ignaciomsarmiento.github.io/GEIH2018_sample/\"\n",
    "driver.get(base_url)\n",
    "\n",
    "# Crear una lista para almacenar los DataFrames de cada tabla\n",
    "df_list = []\n",
    "\n",
    "def extract_table_from_chunk(chunk_url, retry_count=3):\n",
    "    for attempt in range(retry_count):\n",
    "        try:\n",
    "            driver.get(chunk_url)\n",
    "\n",
    "            # Esperar hasta que la tabla esté presente\n",
    "            WebDriverWait(driver, 15).until(\n",
    "                EC.presence_of_element_located((By.TAG_NAME, \"table\"))\n",
    "            )\n",
    "\n",
    "            # Extraer la tabla en la página actual\n",
    "            table = driver.find_element(By.TAG_NAME, \"table\")\n",
    "            table_html = table.get_attribute('outerHTML')\n",
    "            df = pd.read_html(table_html)[0]\n",
    "            print(f\"Tabla extraída en el intento {attempt + 1}.\")\n",
    "            return df\n",
    "        \n",
    "        except Exception as e:\n",
    "            print(f\"Error en el intento {attempt + 1} al procesar el chunk: {e}\")\n",
    "            time.sleep(5)  # Esperar antes de reintentar\n",
    "\n",
    "    return None\n",
    "\n",
    "# Iterar sobre cada enlace\n",
    "for i in range(10):  # Sabemos que hay 10 chunks, por lo que iteramos directamente\n",
    "    print(f\"Procesando el chunk {i + 1}...\")\n",
    "    try:\n",
    "\n",
    "        driver.get(base_url)\n",
    "        \n",
    "    \n",
    "        WebDriverWait(driver, 15).until(\n",
    "            EC.presence_of_all_elements_located((By.XPATH, \"//a[contains(text(), 'Data chunk')]\"))\n",
    "        )\n",
    "        \n",
    "        \n",
    "        chunk_link = driver.find_elements(By.XPATH, \"//a[contains(text(), 'Data chunk')]\")[i]\n",
    "        chunk_url = chunk_link.get_attribute(\"href\")\n",
    "        \n",
    "        # extraer la tabla del chunk\n",
    "        df = extract_table_from_chunk(chunk_url)\n",
    "        \n",
    "        if df is not None:\n",
    "            df_list.append(df)\n",
    "        else:\n",
    "            print(f\"Falló el chunk {i + 1} después de varios intentos.\")\n",
    "    \n",
    "    except Exception as e:\n",
    "        print(f\"Error general al procesar el chunk {i + 1}: {e}\")\n",
    "\n",
    "\n",
    "    time.sleep(3)\n",
    "\n",
    "# Cerrar el WebDriver\n",
    "driver.quit()\n",
    "\n",
    "# Concatenar todos los DataFrames en uno solo\n",
    "if df_list:\n",
    "    final_df = pd.concat(df_list, ignore_index=True)\n",
    "\n",
    "    # Guardar el DataFrame final en un archivo CSV\n",
    "    final_df.to_csv('GEIH2018_sample_data.csv', index=False)\n",
    "    print(\"¡Extracción completada! Los datos se han guardado en 'GEIH2018_sample_data.csv'.\")\n",
    "else:\n",
    "    print(\"No se encontraron tablas para procesar.\")\n"
   ]
  }
 ],
 "metadata": {
  "kernelspec": {
   "display_name": "base",
   "language": "python",
   "name": "python3"
  },
  "language_info": {
   "codemirror_mode": {
    "name": "ipython",
    "version": 3
   },
   "file_extension": ".py",
   "mimetype": "text/x-python",
   "name": "python",
   "nbconvert_exporter": "python",
   "pygments_lexer": "ipython3",
   "version": "3.9.7"
  }
 },
 "nbformat": 4,
 "nbformat_minor": 2
}
